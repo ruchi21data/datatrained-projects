{
 "cells": [
  {
   "cell_type": "code",
   "execution_count": 1,
   "id": "1c7d3d59",
   "metadata": {},
   "outputs": [
    {
     "name": "stdout",
     "output_type": "stream",
     "text": [
      "Requirement already satisfied: selenium in c:\\users\\rahul\\anaconda3\\lib\\site-packages (3.141.0)\n",
      "Requirement already satisfied: urllib3 in c:\\users\\rahul\\anaconda3\\lib\\site-packages (from selenium) (1.26.4)\n"
     ]
    }
   ],
   "source": [
    "!pip install selenium"
   ]
  },
  {
   "cell_type": "code",
   "execution_count": 93,
   "id": "f92c69d1",
   "metadata": {},
   "outputs": [],
   "source": [
    "# Q.1-For Scraping data from WWW.naukri.com for \"Data Analyst\", location-Bangalore for job-title, location, company-name and experience required\n",
    "import selenium\n",
    "import pandas as pd\n",
    "from selenium import webdriver"
   ]
  },
  {
   "cell_type": "code",
   "execution_count": 94,
   "id": "f5b6c34d",
   "metadata": {},
   "outputs": [],
   "source": [
    "driver = webdriver.Chrome(\"Chromedriver.exe\")"
   ]
  },
  {
   "cell_type": "code",
   "execution_count": 95,
   "id": "661c1f6f",
   "metadata": {},
   "outputs": [],
   "source": [
    "url = \"https://www.naukri.com/\"\n",
    "driver.get(url)"
   ]
  },
  {
   "cell_type": "code",
   "execution_count": 96,
   "id": "5af0f4e5",
   "metadata": {},
   "outputs": [
    {
     "data": {
      "text/plain": [
       "<selenium.webdriver.remote.webelement.WebElement (session=\"4f91b9575e20fbbf7faddc1c2d9b97ce\", element=\"3faa8a63-98ea-47f3-afdd-ba3cca8639ae\")>"
      ]
     },
     "execution_count": 96,
     "metadata": {},
     "output_type": "execute_result"
    }
   ],
   "source": [
    "Search_job = driver.find_element_by_xpath('//input[@class=\"sugInp\"]')\n",
    "Search_job"
   ]
  },
  {
   "cell_type": "code",
   "execution_count": 97,
   "id": "ac182efb",
   "metadata": {},
   "outputs": [],
   "source": [
    "Search_job.send_keys(\"Data Analyst\")"
   ]
  },
  {
   "cell_type": "code",
   "execution_count": 99,
   "id": "aa31537a",
   "metadata": {},
   "outputs": [],
   "source": [
    "search_loc = driver.find_element_by_id(\"qsb-location-sugg\")\n",
    "search_loc.send_keys(\"Bangalore/Bengaluru\")"
   ]
  },
  {
   "cell_type": "code",
   "execution_count": 100,
   "id": "e6325073",
   "metadata": {},
   "outputs": [],
   "source": [
    "search_button=driver.find_element_by_xpath(\"//div[@class='search-btn']/button\")\n",
    "search_button.click()"
   ]
  },
  {
   "cell_type": "code",
   "execution_count": 101,
   "id": "06d45e38",
   "metadata": {},
   "outputs": [
    {
     "data": {
      "text/plain": [
       "[<selenium.webdriver.remote.webelement.WebElement (session=\"4f91b9575e20fbbf7faddc1c2d9b97ce\", element=\"c7590d07-9bf2-4881-84ba-0b698b4fa620\")>,\n",
       " <selenium.webdriver.remote.webelement.WebElement (session=\"4f91b9575e20fbbf7faddc1c2d9b97ce\", element=\"149ea27a-ee4a-4cef-9aba-d8e769368c70\")>,\n",
       " <selenium.webdriver.remote.webelement.WebElement (session=\"4f91b9575e20fbbf7faddc1c2d9b97ce\", element=\"68e46c20-ee0b-4217-bfe2-60db47bee06d\")>,\n",
       " <selenium.webdriver.remote.webelement.WebElement (session=\"4f91b9575e20fbbf7faddc1c2d9b97ce\", element=\"ff349491-6608-438a-9c82-71382b83d63d\")>,\n",
       " <selenium.webdriver.remote.webelement.WebElement (session=\"4f91b9575e20fbbf7faddc1c2d9b97ce\", element=\"79007876-3c81-4585-99f2-0db3ede9fab3\")>,\n",
       " <selenium.webdriver.remote.webelement.WebElement (session=\"4f91b9575e20fbbf7faddc1c2d9b97ce\", element=\"cfde7708-d0a4-46b2-ae5c-df5850987be9\")>,\n",
       " <selenium.webdriver.remote.webelement.WebElement (session=\"4f91b9575e20fbbf7faddc1c2d9b97ce\", element=\"7355e0fa-b5f8-4171-8b11-112f271a2474\")>,\n",
       " <selenium.webdriver.remote.webelement.WebElement (session=\"4f91b9575e20fbbf7faddc1c2d9b97ce\", element=\"a5efbec9-0463-4dab-974a-c9b08f66fe0a\")>,\n",
       " <selenium.webdriver.remote.webelement.WebElement (session=\"4f91b9575e20fbbf7faddc1c2d9b97ce\", element=\"fe547778-b9d4-40be-81ce-9a3ef48f12d7\")>,\n",
       " <selenium.webdriver.remote.webelement.WebElement (session=\"4f91b9575e20fbbf7faddc1c2d9b97ce\", element=\"ede62e78-83dd-40fa-a245-9a27ccb79946\")>,\n",
       " <selenium.webdriver.remote.webelement.WebElement (session=\"4f91b9575e20fbbf7faddc1c2d9b97ce\", element=\"2744a37b-a00d-42e8-8364-fae6c175bb83\")>,\n",
       " <selenium.webdriver.remote.webelement.WebElement (session=\"4f91b9575e20fbbf7faddc1c2d9b97ce\", element=\"538b6dd0-8b05-4e0f-a8ae-9dea18d92dbc\")>,\n",
       " <selenium.webdriver.remote.webelement.WebElement (session=\"4f91b9575e20fbbf7faddc1c2d9b97ce\", element=\"db650d29-a9f2-459c-ab7e-413d64f74554\")>,\n",
       " <selenium.webdriver.remote.webelement.WebElement (session=\"4f91b9575e20fbbf7faddc1c2d9b97ce\", element=\"8481eec4-428e-4c39-bb94-ebc09636f697\")>,\n",
       " <selenium.webdriver.remote.webelement.WebElement (session=\"4f91b9575e20fbbf7faddc1c2d9b97ce\", element=\"c06952fc-d335-447a-96f4-1420f529bdc5\")>,\n",
       " <selenium.webdriver.remote.webelement.WebElement (session=\"4f91b9575e20fbbf7faddc1c2d9b97ce\", element=\"2598bd10-bddf-4b42-a54a-89ea2110dbc4\")>,\n",
       " <selenium.webdriver.remote.webelement.WebElement (session=\"4f91b9575e20fbbf7faddc1c2d9b97ce\", element=\"11522761-0a25-4cb6-89ad-0dce4745bfde\")>,\n",
       " <selenium.webdriver.remote.webelement.WebElement (session=\"4f91b9575e20fbbf7faddc1c2d9b97ce\", element=\"781dd8d9-a085-4678-8772-d9066678d828\")>,\n",
       " <selenium.webdriver.remote.webelement.WebElement (session=\"4f91b9575e20fbbf7faddc1c2d9b97ce\", element=\"78e79172-1759-4a04-bdfa-04431120416c\")>,\n",
       " <selenium.webdriver.remote.webelement.WebElement (session=\"4f91b9575e20fbbf7faddc1c2d9b97ce\", element=\"a7cbc364-482b-4952-90a9-a064c30de766\")>]"
      ]
     },
     "execution_count": 101,
     "metadata": {},
     "output_type": "execute_result"
    }
   ],
   "source": [
    "titles_tags = driver.find_elements_by_xpath(\"//a[@class='title fw500 ellipsis']\")\n",
    "titles_tags"
   ]
  },
  {
   "cell_type": "code",
   "execution_count": 102,
   "id": "88d6cf1b",
   "metadata": {},
   "outputs": [
    {
     "data": {
      "text/plain": [
       "['Data Scientist / Data Analyst -Business Analyst',\n",
       " 'Assistant Vice President - MIS & Reporting ( Business Data Analyst)',\n",
       " 'Network Design & Data Analyst',\n",
       " 'Business Data Analyst - MIS & Reporting',\n",
       " 'Data analysts',\n",
       " 'Data Analyst',\n",
       " 'Excel VBA Jobs Bangalore | VBA data analyst Jobs',\n",
       " 'Software Developer / Web Developer/data analyst',\n",
       " 'Consultant - Data Analyst',\n",
       " 'Data Analyst – Financial, Healthcare, Sports Betting',\n",
       " 'Data Analyst',\n",
       " 'Data Analyst Azure',\n",
       " 'Urgently Looking For Data Analyst',\n",
       " 'Data Analyst',\n",
       " 'Senior Security Specialist - CS Awareness & Data Analyst',\n",
       " 'Data Analyst',\n",
       " 'Senior Data Analyst Python, ML - Bangalore',\n",
       " 'Data Analyst',\n",
       " 'Data Analyst',\n",
       " 'Senior Data Analyst']"
      ]
     },
     "execution_count": 102,
     "metadata": {},
     "output_type": "execute_result"
    }
   ],
   "source": [
    "job_titles = []\n",
    "for i in titles_tags:\n",
    "    job_titles.append(i.text)\n",
    "\n",
    "job_titles"
   ]
  },
  {
   "cell_type": "code",
   "execution_count": 104,
   "id": "aa1d62e0",
   "metadata": {},
   "outputs": [
    {
     "data": {
      "text/plain": [
       "[<selenium.webdriver.remote.webelement.WebElement (session=\"4f91b9575e20fbbf7faddc1c2d9b97ce\", element=\"3e885ef4-e5c1-4a17-9d49-e50ace84fa19\")>,\n",
       " <selenium.webdriver.remote.webelement.WebElement (session=\"4f91b9575e20fbbf7faddc1c2d9b97ce\", element=\"70148c8a-9314-42b5-8949-c446f3dd18ed\")>,\n",
       " <selenium.webdriver.remote.webelement.WebElement (session=\"4f91b9575e20fbbf7faddc1c2d9b97ce\", element=\"79451c3b-8883-453c-93fc-d6397b858d26\")>,\n",
       " <selenium.webdriver.remote.webelement.WebElement (session=\"4f91b9575e20fbbf7faddc1c2d9b97ce\", element=\"fed956ca-59cb-4b87-b5b9-3845f34e361e\")>,\n",
       " <selenium.webdriver.remote.webelement.WebElement (session=\"4f91b9575e20fbbf7faddc1c2d9b97ce\", element=\"197402b5-36b0-4d13-ba93-6c6b5159e133\")>,\n",
       " <selenium.webdriver.remote.webelement.WebElement (session=\"4f91b9575e20fbbf7faddc1c2d9b97ce\", element=\"508d8800-6192-466b-9a86-e77258a8aa99\")>,\n",
       " <selenium.webdriver.remote.webelement.WebElement (session=\"4f91b9575e20fbbf7faddc1c2d9b97ce\", element=\"62c6d1bb-c404-4ca7-a393-afb92c97fc95\")>,\n",
       " <selenium.webdriver.remote.webelement.WebElement (session=\"4f91b9575e20fbbf7faddc1c2d9b97ce\", element=\"8893e7f1-f5d0-42b2-b25d-a1f534242be4\")>,\n",
       " <selenium.webdriver.remote.webelement.WebElement (session=\"4f91b9575e20fbbf7faddc1c2d9b97ce\", element=\"09da9cb2-7269-4ca5-ade1-af7540607e2e\")>,\n",
       " <selenium.webdriver.remote.webelement.WebElement (session=\"4f91b9575e20fbbf7faddc1c2d9b97ce\", element=\"7120da6e-6aef-4bd0-a79f-fc1119f5b76d\")>,\n",
       " <selenium.webdriver.remote.webelement.WebElement (session=\"4f91b9575e20fbbf7faddc1c2d9b97ce\", element=\"efb897bb-dcb2-437f-9361-79bb6f5c0ccf\")>,\n",
       " <selenium.webdriver.remote.webelement.WebElement (session=\"4f91b9575e20fbbf7faddc1c2d9b97ce\", element=\"3d9a86c2-415a-4a7b-90e7-e640b0f75a75\")>,\n",
       " <selenium.webdriver.remote.webelement.WebElement (session=\"4f91b9575e20fbbf7faddc1c2d9b97ce\", element=\"9d9a2519-264b-48da-ada3-35ecfbdcd733\")>,\n",
       " <selenium.webdriver.remote.webelement.WebElement (session=\"4f91b9575e20fbbf7faddc1c2d9b97ce\", element=\"c843a207-c54b-4f9c-94ec-e9dabb2b7214\")>,\n",
       " <selenium.webdriver.remote.webelement.WebElement (session=\"4f91b9575e20fbbf7faddc1c2d9b97ce\", element=\"25967538-65d7-4b8a-a6dc-41f6f78dcdee\")>,\n",
       " <selenium.webdriver.remote.webelement.WebElement (session=\"4f91b9575e20fbbf7faddc1c2d9b97ce\", element=\"e5dfb1e6-535b-4f8f-ab00-61fc3719b967\")>,\n",
       " <selenium.webdriver.remote.webelement.WebElement (session=\"4f91b9575e20fbbf7faddc1c2d9b97ce\", element=\"8cf46fca-df84-42d8-8658-74101a70f0b6\")>,\n",
       " <selenium.webdriver.remote.webelement.WebElement (session=\"4f91b9575e20fbbf7faddc1c2d9b97ce\", element=\"c5426f4b-ffb2-4e9f-8b62-84b8bd6f995f\")>,\n",
       " <selenium.webdriver.remote.webelement.WebElement (session=\"4f91b9575e20fbbf7faddc1c2d9b97ce\", element=\"1ad3e7ab-d767-450e-8dd2-33b03daeeee5\")>,\n",
       " <selenium.webdriver.remote.webelement.WebElement (session=\"4f91b9575e20fbbf7faddc1c2d9b97ce\", element=\"d0600a8d-a6b8-4c66-a37c-15df47401c69\")>]"
      ]
     },
     "execution_count": 104,
     "metadata": {},
     "output_type": "execute_result"
    }
   ],
   "source": [
    "company_tags = driver.find_elements_by_xpath(\"//a[@class='subTitle ellipsis fleft']\")\n",
    "company_tags"
   ]
  },
  {
   "cell_type": "code",
   "execution_count": 106,
   "id": "a0391dd2",
   "metadata": {},
   "outputs": [
    {
     "data": {
      "text/plain": [
       "['Inflexion Analytix Private Limited',\n",
       " 'INTERTRUSTVITEOS CORPORATE AND FUND SERVICES PVT. LTD.',\n",
       " 'Dell International Services India Private Limited',\n",
       " 'INTERTRUST GROUP',\n",
       " 'IBM India Pvt. Limited',\n",
       " 'CARNATION INFOTECH PRIVATE LIMITED',\n",
       " 'Mind Circus Innovation',\n",
       " 'Edubridgeindia',\n",
       " 'Flipkart Internet Private Limited',\n",
       " 'Quantsys',\n",
       " 'Flipkart Internet Private Limited',\n",
       " 'CONDUENT BUSINESS SERVICES INDIA LLP',\n",
       " 'Flipkart Internet Private Limited',\n",
       " 'Allegis Services India Pvt. Ltd.',\n",
       " 'Cognizant Technology Solutions India Pvt Ltd',\n",
       " 'Clarivate Analytics (TRCPL Projects Pvt Ltd.)',\n",
       " '2coms',\n",
       " 'Siemens Limited',\n",
       " 'Bright Money',\n",
       " 'Liventus, Inc.']"
      ]
     },
     "execution_count": 106,
     "metadata": {},
     "output_type": "execute_result"
    }
   ],
   "source": [
    "company_title = []\n",
    "for i in company_tags:\n",
    "    company_title.append(i.text)\n",
    "\n",
    "company_title"
   ]
  },
  {
   "cell_type": "code",
   "execution_count": 108,
   "id": "f75429d2",
   "metadata": {},
   "outputs": [
    {
     "data": {
      "text/plain": [
       "[<selenium.webdriver.remote.webelement.WebElement (session=\"4f91b9575e20fbbf7faddc1c2d9b97ce\", element=\"53d7b2b0-3812-447c-981d-c971979ef27a\")>,\n",
       " <selenium.webdriver.remote.webelement.WebElement (session=\"4f91b9575e20fbbf7faddc1c2d9b97ce\", element=\"45111625-9009-47fb-b2ad-6863d07b5ca1\")>,\n",
       " <selenium.webdriver.remote.webelement.WebElement (session=\"4f91b9575e20fbbf7faddc1c2d9b97ce\", element=\"7ba847cf-b9c6-4cd6-ac07-a665f2146c25\")>,\n",
       " <selenium.webdriver.remote.webelement.WebElement (session=\"4f91b9575e20fbbf7faddc1c2d9b97ce\", element=\"5d19a96e-f821-4ce7-9177-00705d6b8109\")>,\n",
       " <selenium.webdriver.remote.webelement.WebElement (session=\"4f91b9575e20fbbf7faddc1c2d9b97ce\", element=\"9527ee01-7b7c-4780-a574-cde2af8e4c6e\")>,\n",
       " <selenium.webdriver.remote.webelement.WebElement (session=\"4f91b9575e20fbbf7faddc1c2d9b97ce\", element=\"75bbff80-77a4-4750-ab37-88d4fe5cfc35\")>,\n",
       " <selenium.webdriver.remote.webelement.WebElement (session=\"4f91b9575e20fbbf7faddc1c2d9b97ce\", element=\"2ae5dad1-39fe-4e7e-bfbd-8baafbea6b42\")>,\n",
       " <selenium.webdriver.remote.webelement.WebElement (session=\"4f91b9575e20fbbf7faddc1c2d9b97ce\", element=\"bcc05213-c459-4dfb-ba89-284418fcacb1\")>,\n",
       " <selenium.webdriver.remote.webelement.WebElement (session=\"4f91b9575e20fbbf7faddc1c2d9b97ce\", element=\"df8ea9ca-c9f5-4d90-b4d7-2f3d9f19ca49\")>,\n",
       " <selenium.webdriver.remote.webelement.WebElement (session=\"4f91b9575e20fbbf7faddc1c2d9b97ce\", element=\"45811ec7-b74f-459f-b0c4-b88fe686f0b4\")>,\n",
       " <selenium.webdriver.remote.webelement.WebElement (session=\"4f91b9575e20fbbf7faddc1c2d9b97ce\", element=\"efdff377-a82c-41c2-922f-e2660e41f6a5\")>,\n",
       " <selenium.webdriver.remote.webelement.WebElement (session=\"4f91b9575e20fbbf7faddc1c2d9b97ce\", element=\"8c647e7a-b122-4dfd-bc00-9194de245d57\")>,\n",
       " <selenium.webdriver.remote.webelement.WebElement (session=\"4f91b9575e20fbbf7faddc1c2d9b97ce\", element=\"3aac45cc-4fa8-42fd-90b5-2b3f4d2be1c9\")>,\n",
       " <selenium.webdriver.remote.webelement.WebElement (session=\"4f91b9575e20fbbf7faddc1c2d9b97ce\", element=\"72a6558f-0d4f-49a1-97f6-8a13f04558f6\")>,\n",
       " <selenium.webdriver.remote.webelement.WebElement (session=\"4f91b9575e20fbbf7faddc1c2d9b97ce\", element=\"a947b0c5-6d54-47e2-a673-caa69a6c6d84\")>,\n",
       " <selenium.webdriver.remote.webelement.WebElement (session=\"4f91b9575e20fbbf7faddc1c2d9b97ce\", element=\"7262c0ce-bf73-45d0-85c8-c203d1060fd4\")>,\n",
       " <selenium.webdriver.remote.webelement.WebElement (session=\"4f91b9575e20fbbf7faddc1c2d9b97ce\", element=\"d1bc9240-088b-4030-aee9-cd54816c4e40\")>,\n",
       " <selenium.webdriver.remote.webelement.WebElement (session=\"4f91b9575e20fbbf7faddc1c2d9b97ce\", element=\"48584308-7c98-4058-b674-271c64385f58\")>,\n",
       " <selenium.webdriver.remote.webelement.WebElement (session=\"4f91b9575e20fbbf7faddc1c2d9b97ce\", element=\"378e08de-648d-488c-a182-7e9aa49cd82f\")>,\n",
       " <selenium.webdriver.remote.webelement.WebElement (session=\"4f91b9575e20fbbf7faddc1c2d9b97ce\", element=\"304932de-956c-4b9c-9804-90321382bcf5\")>]"
      ]
     },
     "execution_count": 108,
     "metadata": {},
     "output_type": "execute_result"
    }
   ],
   "source": [
    "experience_tags = driver.find_elements_by_xpath(\"//li[@class='fleft grey-text br2 placeHolderLi experience']//span\")\n",
    "experience_tags"
   ]
  },
  {
   "cell_type": "code",
   "execution_count": 109,
   "id": "dd561d08",
   "metadata": {},
   "outputs": [
    {
     "data": {
      "text/plain": [
       "['0-3 Yrs',\n",
       " '10-15 Yrs',\n",
       " '0-2 Yrs',\n",
       " '3-8 Yrs',\n",
       " '5-10 Yrs',\n",
       " '0-5 Yrs',\n",
       " '0-2 Yrs',\n",
       " '0-1 Yrs',\n",
       " '0-2 Yrs',\n",
       " '2-4 Yrs',\n",
       " '3-5 Yrs',\n",
       " '3-6 Yrs',\n",
       " '2-3 Yrs',\n",
       " '8-13 Yrs',\n",
       " '4-7 Yrs',\n",
       " '1-2 Yrs',\n",
       " '2-7 Yrs',\n",
       " '0-5 Yrs',\n",
       " '0-2 Yrs',\n",
       " '5-8 Yrs']"
      ]
     },
     "execution_count": 109,
     "metadata": {},
     "output_type": "execute_result"
    }
   ],
   "source": [
    "experience_list = []\n",
    "for i in experience_tags:\n",
    "    experience_list.append(i.text)\n",
    "experience_list"
   ]
  },
  {
   "cell_type": "code",
   "execution_count": 110,
   "id": "56ceac36",
   "metadata": {},
   "outputs": [
    {
     "data": {
      "text/plain": [
       "[<selenium.webdriver.remote.webelement.WebElement (session=\"4f91b9575e20fbbf7faddc1c2d9b97ce\", element=\"f806b333-b730-44d7-affc-be2492c318a2\")>,\n",
       " <selenium.webdriver.remote.webelement.WebElement (session=\"4f91b9575e20fbbf7faddc1c2d9b97ce\", element=\"61f680de-3ead-4b76-83d4-20fd4ff16e0d\")>,\n",
       " <selenium.webdriver.remote.webelement.WebElement (session=\"4f91b9575e20fbbf7faddc1c2d9b97ce\", element=\"1bf06475-6d1c-425e-bbed-7492868e3e2d\")>,\n",
       " <selenium.webdriver.remote.webelement.WebElement (session=\"4f91b9575e20fbbf7faddc1c2d9b97ce\", element=\"b4a4a0b5-cd5d-4bc9-9259-3f7c8b4fa5e1\")>,\n",
       " <selenium.webdriver.remote.webelement.WebElement (session=\"4f91b9575e20fbbf7faddc1c2d9b97ce\", element=\"909f1956-6095-43bd-872d-059cd2a7ee66\")>,\n",
       " <selenium.webdriver.remote.webelement.WebElement (session=\"4f91b9575e20fbbf7faddc1c2d9b97ce\", element=\"6f95aae9-53d1-4eeb-8728-b53ac013c4f2\")>,\n",
       " <selenium.webdriver.remote.webelement.WebElement (session=\"4f91b9575e20fbbf7faddc1c2d9b97ce\", element=\"d974a226-1e87-4baf-a1e4-eb3f18468fc7\")>,\n",
       " <selenium.webdriver.remote.webelement.WebElement (session=\"4f91b9575e20fbbf7faddc1c2d9b97ce\", element=\"35fa2667-4107-4fad-85dc-73c2c3240af6\")>,\n",
       " <selenium.webdriver.remote.webelement.WebElement (session=\"4f91b9575e20fbbf7faddc1c2d9b97ce\", element=\"972bd44a-42c8-4ac9-9606-5131d305440d\")>,\n",
       " <selenium.webdriver.remote.webelement.WebElement (session=\"4f91b9575e20fbbf7faddc1c2d9b97ce\", element=\"5ab99456-db45-484e-b30c-7bac27bc3c80\")>,\n",
       " <selenium.webdriver.remote.webelement.WebElement (session=\"4f91b9575e20fbbf7faddc1c2d9b97ce\", element=\"1c89814c-e2ae-4d88-8de0-afa635a1db8d\")>,\n",
       " <selenium.webdriver.remote.webelement.WebElement (session=\"4f91b9575e20fbbf7faddc1c2d9b97ce\", element=\"735f0261-4562-443e-99a5-a89aa4bde281\")>,\n",
       " <selenium.webdriver.remote.webelement.WebElement (session=\"4f91b9575e20fbbf7faddc1c2d9b97ce\", element=\"498f70c0-52b1-4aca-8a69-253afd1c7011\")>,\n",
       " <selenium.webdriver.remote.webelement.WebElement (session=\"4f91b9575e20fbbf7faddc1c2d9b97ce\", element=\"3c4ed9b3-c1df-45be-b845-c7a52eb39a39\")>,\n",
       " <selenium.webdriver.remote.webelement.WebElement (session=\"4f91b9575e20fbbf7faddc1c2d9b97ce\", element=\"50297700-9243-4079-af6d-65d03b2402a6\")>,\n",
       " <selenium.webdriver.remote.webelement.WebElement (session=\"4f91b9575e20fbbf7faddc1c2d9b97ce\", element=\"116f1eb0-d9ff-47a0-8bbd-7c5b8561d4f5\")>,\n",
       " <selenium.webdriver.remote.webelement.WebElement (session=\"4f91b9575e20fbbf7faddc1c2d9b97ce\", element=\"7de18a38-ba47-4e9e-b35d-c61c59f76293\")>,\n",
       " <selenium.webdriver.remote.webelement.WebElement (session=\"4f91b9575e20fbbf7faddc1c2d9b97ce\", element=\"229c7660-2d16-4d7b-a1cb-a11d5c2c88fd\")>,\n",
       " <selenium.webdriver.remote.webelement.WebElement (session=\"4f91b9575e20fbbf7faddc1c2d9b97ce\", element=\"39a60c6a-4479-410f-b0b5-4936e8e2354d\")>,\n",
       " <selenium.webdriver.remote.webelement.WebElement (session=\"4f91b9575e20fbbf7faddc1c2d9b97ce\", element=\"3a31a5b2-f34e-4fc2-ba9b-975ed694d7de\")>,\n",
       " <selenium.webdriver.remote.webelement.WebElement (session=\"4f91b9575e20fbbf7faddc1c2d9b97ce\", element=\"61f5e1b3-2c15-4406-b0a8-b22338828304\")>]"
      ]
     },
     "execution_count": 110,
     "metadata": {},
     "output_type": "execute_result"
    }
   ],
   "source": [
    "job_location = driver.find_elements_by_xpath(\"//li[@class='fleft grey-text br2 placeHolderLi location']//span\")\n",
    "job_location"
   ]
  },
  {
   "cell_type": "code",
   "execution_count": 111,
   "id": "9ae89913",
   "metadata": {},
   "outputs": [
    {
     "data": {
      "text/plain": [
       "['Hyderabad/Secunderabad, Chennai, Bangalore/Bengaluru',\n",
       " 'Mumbai, Bangalore/Bengaluru',\n",
       " 'Bangalore/Bengaluru',\n",
       " 'Mumbai, Bangalore/Bengaluru',\n",
       " 'Bangalore/Bengaluru',\n",
       " 'Lucknow, Bangalore/Bengaluru',\n",
       " '(WFH during Covid)',\n",
       " 'Coimbatore, Bangalore/Bengaluru, Trivandrum/Thiruvananthapuram',\n",
       " 'Hyderabad/Secunderabad, Bangalore/Bengaluru',\n",
       " 'Bangalore/Bengaluru',\n",
       " 'Pune, Chennai, Bangalore/Bengaluru',\n",
       " 'Bangalore/Bengaluru',\n",
       " 'Bangalore/Bengaluru',\n",
       " 'Bangalore/Bengaluru',\n",
       " 'Bangalore/Bengaluru',\n",
       " 'Bangalore/Bengaluru',\n",
       " 'Bangalore/Bengaluru',\n",
       " 'Bangalore/Bengaluru, Bangalore',\n",
       " 'Bangalore/Bengaluru',\n",
       " 'Bangalore/Bengaluru',\n",
       " 'Bangalore/Bengaluru(2nd Phase JP Nagar)']"
      ]
     },
     "execution_count": 111,
     "metadata": {},
     "output_type": "execute_result"
    }
   ],
   "source": [
    "location_list = []\n",
    "for i in job_location:\n",
    "    location_list.append(i.text)\n",
    "location_list"
   ]
  },
  {
   "cell_type": "code",
   "execution_count": 115,
   "id": "dc4eda6b",
   "metadata": {},
   "outputs": [
    {
     "name": "stdout",
     "output_type": "stream",
     "text": [
      "20 20 20 21\n"
     ]
    }
   ],
   "source": [
    "print(len(job_titles), len(company_title), len(experience_list), len(location_list)) "
   ]
  },
  {
   "cell_type": "code",
   "execution_count": 116,
   "id": "8a46e367",
   "metadata": {},
   "outputs": [],
   "source": [
    "#for dataframe\n",
    "import pandas as pd\n",
    "jobs = pd.DataFrame({})\n",
    "jobs['title'] = job_titles[:10]\n",
    "jobs['Company'] = company_title[:10]\n",
    "jobs['Location'] = location_list[:10]\n",
    "jobs['experience'] = experience_list[:10]"
   ]
  },
  {
   "cell_type": "code",
   "execution_count": 117,
   "id": "e9486b79",
   "metadata": {},
   "outputs": [
    {
     "data": {
      "text/html": [
       "<div>\n",
       "<style scoped>\n",
       "    .dataframe tbody tr th:only-of-type {\n",
       "        vertical-align: middle;\n",
       "    }\n",
       "\n",
       "    .dataframe tbody tr th {\n",
       "        vertical-align: top;\n",
       "    }\n",
       "\n",
       "    .dataframe thead th {\n",
       "        text-align: right;\n",
       "    }\n",
       "</style>\n",
       "<table border=\"1\" class=\"dataframe\">\n",
       "  <thead>\n",
       "    <tr style=\"text-align: right;\">\n",
       "      <th></th>\n",
       "      <th>title</th>\n",
       "      <th>Company</th>\n",
       "      <th>Location</th>\n",
       "      <th>experience</th>\n",
       "    </tr>\n",
       "  </thead>\n",
       "  <tbody>\n",
       "    <tr>\n",
       "      <th>0</th>\n",
       "      <td>Data Scientist / Data Analyst -Business Analyst</td>\n",
       "      <td>Inflexion Analytix Private Limited</td>\n",
       "      <td>Hyderabad/Secunderabad, Chennai, Bangalore/Ben...</td>\n",
       "      <td>0-3 Yrs</td>\n",
       "    </tr>\n",
       "    <tr>\n",
       "      <th>1</th>\n",
       "      <td>Assistant Vice President - MIS &amp; Reporting ( B...</td>\n",
       "      <td>INTERTRUSTVITEOS CORPORATE AND FUND SERVICES P...</td>\n",
       "      <td>Mumbai, Bangalore/Bengaluru</td>\n",
       "      <td>10-15 Yrs</td>\n",
       "    </tr>\n",
       "    <tr>\n",
       "      <th>2</th>\n",
       "      <td>Network Design &amp; Data Analyst</td>\n",
       "      <td>Dell International Services India Private Limited</td>\n",
       "      <td>Bangalore/Bengaluru</td>\n",
       "      <td>0-2 Yrs</td>\n",
       "    </tr>\n",
       "    <tr>\n",
       "      <th>3</th>\n",
       "      <td>Business Data Analyst - MIS &amp; Reporting</td>\n",
       "      <td>INTERTRUST GROUP</td>\n",
       "      <td>Mumbai, Bangalore/Bengaluru</td>\n",
       "      <td>3-8 Yrs</td>\n",
       "    </tr>\n",
       "    <tr>\n",
       "      <th>4</th>\n",
       "      <td>Data analysts</td>\n",
       "      <td>IBM India Pvt. Limited</td>\n",
       "      <td>Bangalore/Bengaluru</td>\n",
       "      <td>5-10 Yrs</td>\n",
       "    </tr>\n",
       "    <tr>\n",
       "      <th>5</th>\n",
       "      <td>Data Analyst</td>\n",
       "      <td>CARNATION INFOTECH PRIVATE LIMITED</td>\n",
       "      <td>Lucknow, Bangalore/Bengaluru</td>\n",
       "      <td>0-5 Yrs</td>\n",
       "    </tr>\n",
       "    <tr>\n",
       "      <th>6</th>\n",
       "      <td>Excel VBA Jobs Bangalore | VBA data analyst Jobs</td>\n",
       "      <td>Mind Circus Innovation</td>\n",
       "      <td>(WFH during Covid)</td>\n",
       "      <td>0-2 Yrs</td>\n",
       "    </tr>\n",
       "    <tr>\n",
       "      <th>7</th>\n",
       "      <td>Software Developer / Web Developer/data analyst</td>\n",
       "      <td>Edubridgeindia</td>\n",
       "      <td>Coimbatore, Bangalore/Bengaluru, Trivandrum/Th...</td>\n",
       "      <td>0-1 Yrs</td>\n",
       "    </tr>\n",
       "    <tr>\n",
       "      <th>8</th>\n",
       "      <td>Consultant - Data Analyst</td>\n",
       "      <td>Flipkart Internet Private Limited</td>\n",
       "      <td>Hyderabad/Secunderabad, Bangalore/Bengaluru</td>\n",
       "      <td>0-2 Yrs</td>\n",
       "    </tr>\n",
       "    <tr>\n",
       "      <th>9</th>\n",
       "      <td>Data Analyst – Financial, Healthcare, Sports B...</td>\n",
       "      <td>Quantsys</td>\n",
       "      <td>Bangalore/Bengaluru</td>\n",
       "      <td>2-4 Yrs</td>\n",
       "    </tr>\n",
       "  </tbody>\n",
       "</table>\n",
       "</div>"
      ],
      "text/plain": [
       "                                               title  \\\n",
       "0    Data Scientist / Data Analyst -Business Analyst   \n",
       "1  Assistant Vice President - MIS & Reporting ( B...   \n",
       "2                      Network Design & Data Analyst   \n",
       "3            Business Data Analyst - MIS & Reporting   \n",
       "4                                      Data analysts   \n",
       "5                                       Data Analyst   \n",
       "6   Excel VBA Jobs Bangalore | VBA data analyst Jobs   \n",
       "7    Software Developer / Web Developer/data analyst   \n",
       "8                          Consultant - Data Analyst   \n",
       "9  Data Analyst – Financial, Healthcare, Sports B...   \n",
       "\n",
       "                                             Company  \\\n",
       "0                 Inflexion Analytix Private Limited   \n",
       "1  INTERTRUSTVITEOS CORPORATE AND FUND SERVICES P...   \n",
       "2  Dell International Services India Private Limited   \n",
       "3                                   INTERTRUST GROUP   \n",
       "4                             IBM India Pvt. Limited   \n",
       "5                 CARNATION INFOTECH PRIVATE LIMITED   \n",
       "6                             Mind Circus Innovation   \n",
       "7                                     Edubridgeindia   \n",
       "8                  Flipkart Internet Private Limited   \n",
       "9                                           Quantsys   \n",
       "\n",
       "                                            Location experience  \n",
       "0  Hyderabad/Secunderabad, Chennai, Bangalore/Ben...    0-3 Yrs  \n",
       "1                        Mumbai, Bangalore/Bengaluru  10-15 Yrs  \n",
       "2                                Bangalore/Bengaluru    0-2 Yrs  \n",
       "3                        Mumbai, Bangalore/Bengaluru    3-8 Yrs  \n",
       "4                                Bangalore/Bengaluru   5-10 Yrs  \n",
       "5                       Lucknow, Bangalore/Bengaluru    0-5 Yrs  \n",
       "6                                 (WFH during Covid)    0-2 Yrs  \n",
       "7  Coimbatore, Bangalore/Bengaluru, Trivandrum/Th...    0-1 Yrs  \n",
       "8        Hyderabad/Secunderabad, Bangalore/Bengaluru    0-2 Yrs  \n",
       "9                                Bangalore/Bengaluru    2-4 Yrs  "
      ]
     },
     "execution_count": 117,
     "metadata": {},
     "output_type": "execute_result"
    }
   ],
   "source": [
    "jobs"
   ]
  },
  {
   "cell_type": "code",
   "execution_count": 1,
   "id": "60ca8f86",
   "metadata": {},
   "outputs": [],
   "source": [
    "# Q.2- Scraping first 10 data using title-Data Scientist, location-Bangalore, company-name and job-description\n",
    "import pandas as pd\n",
    "import selenium\n",
    "from selenium import webdriver\n",
    "import time\n",
    "from selenium.common.exceptions import NoSuchElementException"
   ]
  },
  {
   "cell_type": "code",
   "execution_count": 18,
   "id": "1f155e46",
   "metadata": {},
   "outputs": [],
   "source": [
    "driver=webdriver.Chrome(\"Chromedriver.exe\")\n",
    "driver.get(\"https://www.naukri.com/data-scientist-jobs-in-bangalore-bengaluru\")"
   ]
  },
  {
   "cell_type": "code",
   "execution_count": 3,
   "id": "c10d0a24",
   "metadata": {},
   "outputs": [],
   "source": [
    "urls =[]\n",
    "for i in driver.find_elements_by_xpath(\"//a[@class ='title fw500 ellipsis']\"):\n",
    "    urls.append(i.get_attribute(\"href\"))"
   ]
  },
  {
   "cell_type": "code",
   "execution_count": 4,
   "id": "39998c39",
   "metadata": {},
   "outputs": [
    {
     "data": {
      "text/plain": [
       "20"
      ]
     },
     "execution_count": 4,
     "metadata": {},
     "output_type": "execute_result"
    }
   ],
   "source": [
    "len(urls)"
   ]
  },
  {
   "cell_type": "code",
   "execution_count": 5,
   "id": "77a498f1",
   "metadata": {},
   "outputs": [
    {
     "data": {
      "text/plain": [
       "['https://www.naukri.com/job-listings-senior-data-scientist-flipkart-internet-private-limited-bangalore-bengaluru-5-to-10-years-090721908235?src=jobsearchDesk&sid=16259871561564177&xp=1&px=1',\n",
       " 'https://www.naukri.com/job-listings-lead-data-scientist-bd-bangalore-bengaluru-2-to-7-years-090721501722?src=jobsearchDesk&sid=16259871561564177&xp=2&px=1',\n",
       " 'https://www.naukri.com/job-listings-data-scientist-data-analyst-business-analyst-inflexion-analytix-private-limited-hyderabad-secunderabad-chennai-bangalore-bengaluru-0-to-3-years-020721003625?src=jobsearchDesk&sid=16259871561564177&xp=3&px=1',\n",
       " 'https://www.naukri.com/job-listings-data-scientist-flipkart-internet-private-limited-bangalore-bengaluru-0-to-5-years-080721904425?src=jobsearchDesk&sid=16259871561564177&xp=4&px=1',\n",
       " 'https://www.naukri.com/job-listings-data-scientist-oracle-india-pvt-ltd-noida-bangalore-bengaluru-5-to-9-years-010621004567?src=jobsearchDesk&sid=16259871561564177&xp=5&px=1',\n",
       " 'https://www.naukri.com/job-listings-data-scientist-advanced-analytics-ibm-india-pvt-limited-bangalore-bengaluru-5-to-10-years-090721906161?src=jobsearchDesk&sid=16259871561564177&xp=6&px=1',\n",
       " 'https://www.naukri.com/job-listings-senior-data-scientist-inventiv-international-pharma-services-pvt-ltd-hyderabad-secunderabad-gurgaon-gurugram-bangalore-bengaluru-3-to-6-years-090721000064?src=jobsearchDesk&sid=16259871561564177&xp=7&px=1',\n",
       " 'https://www.naukri.com/job-listings-data-scientist-applied-materials-india-private-limited-bangalore-bengaluru-5-to-10-years-090721902434?src=jobsearchDesk&sid=16259871561564177&xp=8&px=1',\n",
       " 'https://www.naukri.com/job-listings-data-scientist-2-gojek-tech-bangalore-bengaluru-4-to-8-years-090721501896?src=jobsearchDesk&sid=16259871561564177&xp=9&px=1',\n",
       " 'https://www.naukri.com/job-listings-data-scientist-2-go-jek-india-bangalore-bengaluru-6-to-11-years-090721501884?src=jobsearchDesk&sid=16259871561564177&xp=10&px=1',\n",
       " 'https://www.naukri.com/job-listings-hiring-data-scientist-ihx-private-limited-bangalore-bengaluru-4-to-6-years-090721002695?src=jobsearchDesk&sid=16259871561564177&xp=11&px=1',\n",
       " 'https://www.naukri.com/job-listings-data-scientist-ibm-india-pvt-limited-bangalore-bengaluru-3-to-6-years-080721906014?src=jobsearchDesk&sid=16259871561564177&xp=12&px=1',\n",
       " 'https://www.naukri.com/job-listings-data-scientist-ibm-india-pvt-limited-bangalore-bengaluru-6-to-10-years-090721905332?src=jobsearchDesk&sid=16259871561564177&xp=13&px=1',\n",
       " 'https://www.naukri.com/job-listings-data-scientist-python-machine-learning-exploro-solutions-bangalore-bengaluru-5-to-10-years-100721901978?src=jobsearchDesk&sid=16259871561564177&xp=14&px=1',\n",
       " 'https://www.naukri.com/job-listings-data-scientist-sql-r-python-imindyourbusiness-bangalore-bengaluru-4-to-8-years-100721901754?src=jobsearchDesk&sid=16259871561564177&xp=15&px=1',\n",
       " 'https://www.naukri.com/job-listings-senior-data-scientist-24-7-customer-private-ltd-bangalore-bengaluru-5-to-10-years-280621501037?src=jobsearchDesk&sid=16259871561564177&xp=16&px=1',\n",
       " 'https://www.naukri.com/job-listings-exl-senior-data-scientist-5-yrs-mumbai-pune-blr-chennai-exl-service-pune-chennai-bangalore-bengaluru-delhi-ncr-5-to-10-years-080721005255?src=jobsearchDesk&sid=16259871561564177&xp=17&px=1',\n",
       " 'https://www.naukri.com/job-listings-senior-data-scientist-superior-group-bangalore-bengaluru-4-to-9-years-070721500778?src=jobsearchDesk&sid=16259871561564177&xp=18&px=1',\n",
       " 'https://www.naukri.com/job-listings-sr-data-scientist-fabhotel-aay-kay-model-town-bangalore-bengaluru-2-to-5-years-070721500535?src=jobsearchDesk&sid=16259871561564177&xp=19&px=1',\n",
       " 'https://www.naukri.com/job-listings-sr-data-scientist-baker-hughes-incorporated-bangalore-bengaluru-3-to-7-years-060721500843?src=jobsearchDesk&sid=16259871561564177&xp=20&px=1']"
      ]
     },
     "execution_count": 5,
     "metadata": {},
     "output_type": "execute_result"
    }
   ],
   "source": [
    "urls"
   ]
  },
  {
   "cell_type": "code",
   "execution_count": 6,
   "id": "41e75fba",
   "metadata": {},
   "outputs": [],
   "source": [
    "job_title=[]\n",
    "job_description=[]\n",
    "job_location=[]\n",
    "company_name=[]"
   ]
  },
  {
   "cell_type": "code",
   "execution_count": 57,
   "id": "75b6c3e8",
   "metadata": {},
   "outputs": [],
   "source": [
    "for i in urls[:10]:\n",
    "    driver.get(i)\n",
    "    time.sleep(3)\n",
    "#job title\n",
    "    try:\n",
    "        job=driver.find_element_by_xpath(\"//h1[@class='jd-header-title']\")\n",
    "        job_title.append(job.text)\n",
    "    except NoSuchElementException:\n",
    "        job_title.append('-')\n",
    "#company_details\n",
    "    try:\n",
    "        company=driver.find_element_by_xpath(\"//div[@class='jd-header-comp-name']//a\")\n",
    "        company_name.append(job.text)\n",
    "    except:\n",
    "        company_name.append('-')\n",
    "#job description\n",
    "    try:\n",
    "        job_desc=driver.find_element_by_xpath(\"//section[@class='job-desc']\")\n",
    "        job_description.append(job_desc.text)\n",
    "    except:\n",
    "        job_description.append('-')"
   ]
  },
  {
   "cell_type": "code",
   "execution_count": 10,
   "id": "bf12168c",
   "metadata": {},
   "outputs": [
    {
     "data": {
      "text/plain": [
       "['https://www.naukri.com/job-listings-senior-data-scientist-flipkart-internet-private-limited-bangalore-bengaluru-5-to-10-years-090721908235?src=jobsearchDesk&sid=16259871561564177&xp=1&px=1',\n",
       " 'https://www.naukri.com/job-listings-lead-data-scientist-bd-bangalore-bengaluru-2-to-7-years-090721501722?src=jobsearchDesk&sid=16259871561564177&xp=2&px=1',\n",
       " 'https://www.naukri.com/job-listings-data-scientist-data-analyst-business-analyst-inflexion-analytix-private-limited-hyderabad-secunderabad-chennai-bangalore-bengaluru-0-to-3-years-020721003625?src=jobsearchDesk&sid=16259871561564177&xp=3&px=1',\n",
       " 'https://www.naukri.com/job-listings-data-scientist-flipkart-internet-private-limited-bangalore-bengaluru-0-to-5-years-080721904425?src=jobsearchDesk&sid=16259871561564177&xp=4&px=1',\n",
       " 'https://www.naukri.com/job-listings-data-scientist-oracle-india-pvt-ltd-noida-bangalore-bengaluru-5-to-9-years-010621004567?src=jobsearchDesk&sid=16259871561564177&xp=5&px=1',\n",
       " 'https://www.naukri.com/job-listings-data-scientist-advanced-analytics-ibm-india-pvt-limited-bangalore-bengaluru-5-to-10-years-090721906161?src=jobsearchDesk&sid=16259871561564177&xp=6&px=1',\n",
       " 'https://www.naukri.com/job-listings-senior-data-scientist-inventiv-international-pharma-services-pvt-ltd-hyderabad-secunderabad-gurgaon-gurugram-bangalore-bengaluru-3-to-6-years-090721000064?src=jobsearchDesk&sid=16259871561564177&xp=7&px=1',\n",
       " 'https://www.naukri.com/job-listings-data-scientist-applied-materials-india-private-limited-bangalore-bengaluru-5-to-10-years-090721902434?src=jobsearchDesk&sid=16259871561564177&xp=8&px=1',\n",
       " 'https://www.naukri.com/job-listings-data-scientist-2-gojek-tech-bangalore-bengaluru-4-to-8-years-090721501896?src=jobsearchDesk&sid=16259871561564177&xp=9&px=1',\n",
       " 'https://www.naukri.com/job-listings-data-scientist-2-go-jek-india-bangalore-bengaluru-6-to-11-years-090721501884?src=jobsearchDesk&sid=16259871561564177&xp=10&px=1',\n",
       " 'https://www.naukri.com/job-listings-hiring-data-scientist-ihx-private-limited-bangalore-bengaluru-4-to-6-years-090721002695?src=jobsearchDesk&sid=16259871561564177&xp=11&px=1',\n",
       " 'https://www.naukri.com/job-listings-data-scientist-ibm-india-pvt-limited-bangalore-bengaluru-3-to-6-years-080721906014?src=jobsearchDesk&sid=16259871561564177&xp=12&px=1',\n",
       " 'https://www.naukri.com/job-listings-data-scientist-ibm-india-pvt-limited-bangalore-bengaluru-6-to-10-years-090721905332?src=jobsearchDesk&sid=16259871561564177&xp=13&px=1',\n",
       " 'https://www.naukri.com/job-listings-data-scientist-python-machine-learning-exploro-solutions-bangalore-bengaluru-5-to-10-years-100721901978?src=jobsearchDesk&sid=16259871561564177&xp=14&px=1',\n",
       " 'https://www.naukri.com/job-listings-data-scientist-sql-r-python-imindyourbusiness-bangalore-bengaluru-4-to-8-years-100721901754?src=jobsearchDesk&sid=16259871561564177&xp=15&px=1',\n",
       " 'https://www.naukri.com/job-listings-senior-data-scientist-24-7-customer-private-ltd-bangalore-bengaluru-5-to-10-years-280621501037?src=jobsearchDesk&sid=16259871561564177&xp=16&px=1',\n",
       " 'https://www.naukri.com/job-listings-exl-senior-data-scientist-5-yrs-mumbai-pune-blr-chennai-exl-service-pune-chennai-bangalore-bengaluru-delhi-ncr-5-to-10-years-080721005255?src=jobsearchDesk&sid=16259871561564177&xp=17&px=1',\n",
       " 'https://www.naukri.com/job-listings-senior-data-scientist-superior-group-bangalore-bengaluru-4-to-9-years-070721500778?src=jobsearchDesk&sid=16259871561564177&xp=18&px=1',\n",
       " 'https://www.naukri.com/job-listings-sr-data-scientist-fabhotel-aay-kay-model-town-bangalore-bengaluru-2-to-5-years-070721500535?src=jobsearchDesk&sid=16259871561564177&xp=19&px=1',\n",
       " 'https://www.naukri.com/job-listings-sr-data-scientist-baker-hughes-incorporated-bangalore-bengaluru-3-to-7-years-060721500843?src=jobsearchDesk&sid=16259871561564177&xp=20&px=1']"
      ]
     },
     "execution_count": 10,
     "metadata": {},
     "output_type": "execute_result"
    }
   ],
   "source": [
    "urls"
   ]
  },
  {
   "cell_type": "code",
   "execution_count": 19,
   "id": "c5649408",
   "metadata": {},
   "outputs": [],
   "source": [
    "#scraping the job-location\n",
    "locations=driver.find_elements_by_xpath(\"//li[@class='fleft grey-text br2 placeHolderLi location']/span[1]\")\n",
    "for i in locations:\n",
    "    if i.text is None :\n",
    "        job_location.append(\"--\") \n",
    "    else:\n",
    "        job_location.append(i.text)"
   ]
  },
  {
   "cell_type": "code",
   "execution_count": 20,
   "id": "9d273b97",
   "metadata": {},
   "outputs": [
    {
     "data": {
      "text/plain": [
       "['Bangalore/Bengaluru',\n",
       " 'Bangalore/Bengaluru',\n",
       " 'Hyderabad/Secunderabad, Chennai, Bangalore/Bengaluru',\n",
       " 'Bangalore/Bengaluru',\n",
       " 'Noida, Bangalore/Bengaluru',\n",
       " 'Bangalore/Bengaluru',\n",
       " 'Hyderabad/Secunderabad, Gurgaon/Gurugram, Bangalore/Bengaluru',\n",
       " 'Bangalore/Bengaluru',\n",
       " 'Bangalore/Bengaluru',\n",
       " 'Bangalore/Bengaluru',\n",
       " 'Bangalore/Bengaluru(5th block Koramangala)',\n",
       " 'Bangalore/Bengaluru',\n",
       " 'Bangalore/Bengaluru',\n",
       " 'Bangalore/Bengaluru',\n",
       " 'Bangalore/Bengaluru',\n",
       " 'Bangalore/Bengaluru',\n",
       " 'Pune, Chennai, Bangalore/Bengaluru, Delhi / NCR',\n",
       " 'Bangalore/Bengaluru',\n",
       " 'Bangalore/Bengaluru',\n",
       " 'Bangalore/Bengaluru']"
      ]
     },
     "execution_count": 20,
     "metadata": {},
     "output_type": "execute_result"
    }
   ],
   "source": [
    "job_location"
   ]
  },
  {
   "cell_type": "code",
   "execution_count": 21,
   "id": "dc4a4bbd",
   "metadata": {},
   "outputs": [
    {
     "name": "stdout",
     "output_type": "stream",
     "text": [
      "20\n"
     ]
    }
   ],
   "source": [
    "print(len(job_location))"
   ]
  },
  {
   "cell_type": "code",
   "execution_count": 151,
   "id": "bc9ff13a",
   "metadata": {},
   "outputs": [],
   "source": [
    "#for dataframe\n",
    "import pandas as pd\n",
    "jobs = pd.DataFrame({})\n",
    "jobs['title'] = job_title[:10]\n",
    "jobs['Location'] = job_location[:10]\n",
    "jobs['company'] = company_name[:10]\n",
    "jobs['description'] = job_description[:10]"
   ]
  },
  {
   "cell_type": "code",
   "execution_count": 152,
   "id": "eb1d5cce",
   "metadata": {},
   "outputs": [
    {
     "data": {
      "text/html": [
       "<div>\n",
       "<style scoped>\n",
       "    .dataframe tbody tr th:only-of-type {\n",
       "        vertical-align: middle;\n",
       "    }\n",
       "\n",
       "    .dataframe tbody tr th {\n",
       "        vertical-align: top;\n",
       "    }\n",
       "\n",
       "    .dataframe thead th {\n",
       "        text-align: right;\n",
       "    }\n",
       "</style>\n",
       "<table border=\"1\" class=\"dataframe\">\n",
       "  <thead>\n",
       "    <tr style=\"text-align: right;\">\n",
       "      <th></th>\n",
       "      <th>title</th>\n",
       "      <th>Location</th>\n",
       "      <th>company</th>\n",
       "      <th>description</th>\n",
       "    </tr>\n",
       "  </thead>\n",
       "  <tbody>\n",
       "    <tr>\n",
       "      <th>0</th>\n",
       "      <td>Data Scientist</td>\n",
       "      <td>-</td>\n",
       "      <td>Data Scientist</td>\n",
       "      <td>Job description\\nAbout the team\\nThe Data Scie...</td>\n",
       "    </tr>\n",
       "    <tr>\n",
       "      <th>1</th>\n",
       "      <td>Data Scientist / Data Analyst -Business Analyst</td>\n",
       "      <td>-</td>\n",
       "      <td>Data Scientist / Data Analyst -Business Analyst</td>\n",
       "      <td>Job description\\nJob description\\n\\nJob Role: ...</td>\n",
       "    </tr>\n",
       "    <tr>\n",
       "      <th>2</th>\n",
       "      <td>-</td>\n",
       "      <td>-</td>\n",
       "      <td>-</td>\n",
       "      <td>-</td>\n",
       "    </tr>\n",
       "    <tr>\n",
       "      <th>3</th>\n",
       "      <td>-</td>\n",
       "      <td>-</td>\n",
       "      <td>-</td>\n",
       "      <td>-</td>\n",
       "    </tr>\n",
       "    <tr>\n",
       "      <th>4</th>\n",
       "      <td>-</td>\n",
       "      <td>-</td>\n",
       "      <td>-</td>\n",
       "      <td>-</td>\n",
       "    </tr>\n",
       "    <tr>\n",
       "      <th>5</th>\n",
       "      <td>EXL - Senior Data Scientist, 5+ yrs, Mumbai / ...</td>\n",
       "      <td>-</td>\n",
       "      <td>EXL - Senior Data Scientist, 5+ yrs, Mumbai / ...</td>\n",
       "      <td>Job description\\nMinimum Qualifications: (Spec...</td>\n",
       "    </tr>\n",
       "    <tr>\n",
       "      <th>6</th>\n",
       "      <td>Senior Data Scientist</td>\n",
       "      <td>-</td>\n",
       "      <td>Senior Data Scientist</td>\n",
       "      <td>Job description\\nKey Responsibilities:\\nProvid...</td>\n",
       "    </tr>\n",
       "    <tr>\n",
       "      <th>7</th>\n",
       "      <td>Sr Data Scientist</td>\n",
       "      <td>-</td>\n",
       "      <td>Sr Data Scientist</td>\n",
       "      <td>Job description\\nAs as Senior Data Scientist, ...</td>\n",
       "    </tr>\n",
       "    <tr>\n",
       "      <th>8</th>\n",
       "      <td>Senior Data Scientist</td>\n",
       "      <td>-</td>\n",
       "      <td>Senior Data Scientist</td>\n",
       "      <td>Job description\\n2-10 years experience in mach...</td>\n",
       "    </tr>\n",
       "    <tr>\n",
       "      <th>9</th>\n",
       "      <td>-</td>\n",
       "      <td>-</td>\n",
       "      <td>-</td>\n",
       "      <td>-</td>\n",
       "    </tr>\n",
       "  </tbody>\n",
       "</table>\n",
       "</div>"
      ],
      "text/plain": [
       "                                               title Location  \\\n",
       "0                                     Data Scientist        -   \n",
       "1    Data Scientist / Data Analyst -Business Analyst        -   \n",
       "2                                                  -        -   \n",
       "3                                                  -        -   \n",
       "4                                                  -        -   \n",
       "5  EXL - Senior Data Scientist, 5+ yrs, Mumbai / ...        -   \n",
       "6                              Senior Data Scientist        -   \n",
       "7                                  Sr Data Scientist        -   \n",
       "8                              Senior Data Scientist        -   \n",
       "9                                                  -        -   \n",
       "\n",
       "                                             company  \\\n",
       "0                                     Data Scientist   \n",
       "1    Data Scientist / Data Analyst -Business Analyst   \n",
       "2                                                  -   \n",
       "3                                                  -   \n",
       "4                                                  -   \n",
       "5  EXL - Senior Data Scientist, 5+ yrs, Mumbai / ...   \n",
       "6                              Senior Data Scientist   \n",
       "7                                  Sr Data Scientist   \n",
       "8                              Senior Data Scientist   \n",
       "9                                                  -   \n",
       "\n",
       "                                         description  \n",
       "0  Job description\\nAbout the team\\nThe Data Scie...  \n",
       "1  Job description\\nJob description\\n\\nJob Role: ...  \n",
       "2                                                  -  \n",
       "3                                                  -  \n",
       "4                                                  -  \n",
       "5  Job description\\nMinimum Qualifications: (Spec...  \n",
       "6  Job description\\nKey Responsibilities:\\nProvid...  \n",
       "7  Job description\\nAs as Senior Data Scientist, ...  \n",
       "8  Job description\\n2-10 years experience in mach...  \n",
       "9                                                  -  "
      ]
     },
     "execution_count": 152,
     "metadata": {},
     "output_type": "execute_result"
    }
   ],
   "source": [
    "jobs"
   ]
  },
  {
   "cell_type": "code",
   "execution_count": 50,
   "id": "08183dd6",
   "metadata": {},
   "outputs": [],
   "source": [
    "# Q-3- for scraping a data for \"Data Scientist\" using the location (Delhi-NCR) and salary filter (3-6 lakhs)\n",
    "import pandas as pd\n",
    "import selenium\n",
    "from selenium import webdriver\n",
    "import time\n",
    "from selenium.common.exceptions import NoSuchElementException"
   ]
  },
  {
   "cell_type": "code",
   "execution_count": 51,
   "id": "87f1a468",
   "metadata": {},
   "outputs": [],
   "source": [
    "driver = webdriver.Chrome(\"Chromedriver.exe\")"
   ]
  },
  {
   "cell_type": "code",
   "execution_count": 52,
   "id": "b670d793",
   "metadata": {},
   "outputs": [],
   "source": [
    "url = \"https://www.naukri.com/\"\n",
    "driver.get(url)"
   ]
  },
  {
   "cell_type": "code",
   "execution_count": 56,
   "id": "e4c728d7",
   "metadata": {},
   "outputs": [
    {
     "data": {
      "text/plain": [
       "<selenium.webdriver.remote.webelement.WebElement (session=\"1153aa70e9a8e20e5a89588006a84aa6\", element=\"f1a52885-adfc-453a-88df-109799a54709\")>"
      ]
     },
     "execution_count": 56,
     "metadata": {},
     "output_type": "execute_result"
    }
   ],
   "source": [
    "Search_job = driver.find_element_by_xpath('/html/body/div[1]/div[3]/div[2]/section/div/form/div[1]/div/div/div/div[1]/div[2]/input')\n",
    "Search_job"
   ]
  },
  {
   "cell_type": "code",
   "execution_count": 57,
   "id": "f4252902",
   "metadata": {},
   "outputs": [],
   "source": [
    "Search_job.send_keys(\"Data Scientist\")"
   ]
  },
  {
   "cell_type": "code",
   "execution_count": 58,
   "id": "58fb7110",
   "metadata": {},
   "outputs": [],
   "source": [
    "search_button=driver.find_element_by_xpath(\"//div[@class='search-btn']/button\")\n",
    "search_button.click()"
   ]
  },
  {
   "cell_type": "code",
   "execution_count": 60,
   "id": "029067f4",
   "metadata": {},
   "outputs": [],
   "source": [
    "location_filter=driver.find_element_by_xpath('/html/body/div[1]/div[3]/div[2]/section[1]/div[2]/div[3]/div[2]/div[3]/label/p/span[1]')\n",
    "location_filter.click()"
   ]
  },
  {
   "cell_type": "code",
   "execution_count": 61,
   "id": "96ec45fd",
   "metadata": {},
   "outputs": [],
   "source": [
    "salary_filter=driver.find_element_by_xpath('/html/body/div[1]/div[3]/div[2]/section[1]/div[2]/div[4]/div[2]/div[2]/label/p/span[1]')\n",
    "salary_filter.click()"
   ]
  },
  {
   "cell_type": "code",
   "execution_count": 62,
   "id": "637f42c8",
   "metadata": {},
   "outputs": [
    {
     "data": {
      "text/plain": [
       "[<selenium.webdriver.remote.webelement.WebElement (session=\"1153aa70e9a8e20e5a89588006a84aa6\", element=\"ebbca770-ccbb-45b4-b34b-bf4ed12df47c\")>,\n",
       " <selenium.webdriver.remote.webelement.WebElement (session=\"1153aa70e9a8e20e5a89588006a84aa6\", element=\"511b969e-7a25-43a1-a321-1f61199ed2f2\")>,\n",
       " <selenium.webdriver.remote.webelement.WebElement (session=\"1153aa70e9a8e20e5a89588006a84aa6\", element=\"9c8d26c7-6c67-4af8-a8c5-678664be49f8\")>,\n",
       " <selenium.webdriver.remote.webelement.WebElement (session=\"1153aa70e9a8e20e5a89588006a84aa6\", element=\"620bf750-0966-4126-8bcf-c01ca4735e9d\")>,\n",
       " <selenium.webdriver.remote.webelement.WebElement (session=\"1153aa70e9a8e20e5a89588006a84aa6\", element=\"c16eca11-3a7b-4f03-8c63-4f10966dc5fb\")>,\n",
       " <selenium.webdriver.remote.webelement.WebElement (session=\"1153aa70e9a8e20e5a89588006a84aa6\", element=\"17bf79ed-3525-46f9-9ccf-1e29ab8c8c77\")>,\n",
       " <selenium.webdriver.remote.webelement.WebElement (session=\"1153aa70e9a8e20e5a89588006a84aa6\", element=\"338046a0-6711-4e6d-bec6-4da5dec3b64b\")>,\n",
       " <selenium.webdriver.remote.webelement.WebElement (session=\"1153aa70e9a8e20e5a89588006a84aa6\", element=\"d5edf610-d834-4646-8ab2-f9f5658f4d4a\")>,\n",
       " <selenium.webdriver.remote.webelement.WebElement (session=\"1153aa70e9a8e20e5a89588006a84aa6\", element=\"46d1b092-170e-407a-9014-84b497225a45\")>,\n",
       " <selenium.webdriver.remote.webelement.WebElement (session=\"1153aa70e9a8e20e5a89588006a84aa6\", element=\"eaf171f4-4174-41a7-b5d8-8a8ed34bb4e6\")>,\n",
       " <selenium.webdriver.remote.webelement.WebElement (session=\"1153aa70e9a8e20e5a89588006a84aa6\", element=\"0054919b-7ec5-4338-a809-3e2f5106e4ed\")>,\n",
       " <selenium.webdriver.remote.webelement.WebElement (session=\"1153aa70e9a8e20e5a89588006a84aa6\", element=\"874147f3-d89f-4fc7-b999-a816318eb706\")>,\n",
       " <selenium.webdriver.remote.webelement.WebElement (session=\"1153aa70e9a8e20e5a89588006a84aa6\", element=\"abaca688-156a-4d7b-b594-feea903c3c14\")>,\n",
       " <selenium.webdriver.remote.webelement.WebElement (session=\"1153aa70e9a8e20e5a89588006a84aa6\", element=\"cd28926f-ee3f-4478-b416-81df2762af4c\")>,\n",
       " <selenium.webdriver.remote.webelement.WebElement (session=\"1153aa70e9a8e20e5a89588006a84aa6\", element=\"348b8eaa-e39c-41c3-9582-bdd7846887c4\")>,\n",
       " <selenium.webdriver.remote.webelement.WebElement (session=\"1153aa70e9a8e20e5a89588006a84aa6\", element=\"0922cbb0-1540-4bbc-8a3f-60b1c656c2e2\")>,\n",
       " <selenium.webdriver.remote.webelement.WebElement (session=\"1153aa70e9a8e20e5a89588006a84aa6\", element=\"5a2d1da5-f8e5-46da-af08-f8b6ab5a7a59\")>,\n",
       " <selenium.webdriver.remote.webelement.WebElement (session=\"1153aa70e9a8e20e5a89588006a84aa6\", element=\"7ffeb15c-17a8-486b-96be-e7107d274269\")>,\n",
       " <selenium.webdriver.remote.webelement.WebElement (session=\"1153aa70e9a8e20e5a89588006a84aa6\", element=\"4e86ebb2-8d68-4c91-bc66-17933883179f\")>,\n",
       " <selenium.webdriver.remote.webelement.WebElement (session=\"1153aa70e9a8e20e5a89588006a84aa6\", element=\"f9be5d14-eda7-45bd-aaed-ff799740d68a\")>]"
      ]
     },
     "execution_count": 62,
     "metadata": {},
     "output_type": "execute_result"
    }
   ],
   "source": [
    "titles_tags = driver.find_elements_by_xpath(\"//a[@class='title fw500 ellipsis']\")\n",
    "titles_tags"
   ]
  },
  {
   "cell_type": "code",
   "execution_count": 81,
   "id": "63c7d8dd",
   "metadata": {},
   "outputs": [
    {
     "data": {
      "text/plain": [
       "['Data Scientist/Data Analyst /Business Analyst',\n",
       " 'Senior Data Scientist',\n",
       " 'Only Fresher / Data Scientist / Data Analyst / Analytics - MNC Jobs',\n",
       " 'Advanced Analytics -Data Scientist',\n",
       " 'Data Scientist (Early Joiner)',\n",
       " 'Data Scientist - Machine Learning/ NLP',\n",
       " 'Data Scientist || Python || C2H',\n",
       " 'Data Scientist || Python || C2H',\n",
       " 'Chaayos is Looking For Data Scientist',\n",
       " 'Data Scientist',\n",
       " 'Data Scientist -Delhi',\n",
       " 'Senior Data Scientist',\n",
       " 'Data Scientist',\n",
       " 'Data Scientist',\n",
       " 'Data Scientist',\n",
       " 'Data Scientist',\n",
       " 'Associate Data Scientist',\n",
       " 'Associate Data Scientist',\n",
       " 'DATA SCIENTIST',\n",
       " 'Data Scientist']"
      ]
     },
     "execution_count": 81,
     "metadata": {},
     "output_type": "execute_result"
    }
   ],
   "source": [
    "job_titles = []\n",
    "for i in titles_tags:\n",
    "    job_titles.append(i.text)\n",
    "\n",
    "job_titles"
   ]
  },
  {
   "cell_type": "code",
   "execution_count": 64,
   "id": "da6b073c",
   "metadata": {},
   "outputs": [
    {
     "data": {
      "text/plain": [
       "[<selenium.webdriver.remote.webelement.WebElement (session=\"1153aa70e9a8e20e5a89588006a84aa6\", element=\"0e4504c0-ba69-4a5a-99c0-0b2a3351ac6e\")>,\n",
       " <selenium.webdriver.remote.webelement.WebElement (session=\"1153aa70e9a8e20e5a89588006a84aa6\", element=\"306c0131-7af4-4b07-9709-fd2ad34773b3\")>,\n",
       " <selenium.webdriver.remote.webelement.WebElement (session=\"1153aa70e9a8e20e5a89588006a84aa6\", element=\"a176e058-c4cd-412d-bed6-8e80fba8e716\")>,\n",
       " <selenium.webdriver.remote.webelement.WebElement (session=\"1153aa70e9a8e20e5a89588006a84aa6\", element=\"2c1b0e99-4faa-47a7-8185-5c189195b29f\")>,\n",
       " <selenium.webdriver.remote.webelement.WebElement (session=\"1153aa70e9a8e20e5a89588006a84aa6\", element=\"46580c8c-6f2f-4ad2-8c29-6d3c033787aa\")>,\n",
       " <selenium.webdriver.remote.webelement.WebElement (session=\"1153aa70e9a8e20e5a89588006a84aa6\", element=\"30d8cb66-5753-4ae5-84d2-53ed6f911622\")>,\n",
       " <selenium.webdriver.remote.webelement.WebElement (session=\"1153aa70e9a8e20e5a89588006a84aa6\", element=\"a11f3201-74f6-471b-967a-7ce882ac01a0\")>,\n",
       " <selenium.webdriver.remote.webelement.WebElement (session=\"1153aa70e9a8e20e5a89588006a84aa6\", element=\"0c1990ee-7883-4d77-be59-d7cb3a314ee0\")>,\n",
       " <selenium.webdriver.remote.webelement.WebElement (session=\"1153aa70e9a8e20e5a89588006a84aa6\", element=\"bfdfab84-e07d-40dc-87f6-d7c3fe556f5e\")>,\n",
       " <selenium.webdriver.remote.webelement.WebElement (session=\"1153aa70e9a8e20e5a89588006a84aa6\", element=\"9eae9549-9dcf-4afe-a02a-cb54f55e3642\")>,\n",
       " <selenium.webdriver.remote.webelement.WebElement (session=\"1153aa70e9a8e20e5a89588006a84aa6\", element=\"4fe75315-b10f-46b4-9008-b568856c59e7\")>,\n",
       " <selenium.webdriver.remote.webelement.WebElement (session=\"1153aa70e9a8e20e5a89588006a84aa6\", element=\"2ae8b080-91ea-4d6e-a8e2-e0b657e0f6fd\")>,\n",
       " <selenium.webdriver.remote.webelement.WebElement (session=\"1153aa70e9a8e20e5a89588006a84aa6\", element=\"27334555-7c41-43e5-a0a7-13290f603192\")>,\n",
       " <selenium.webdriver.remote.webelement.WebElement (session=\"1153aa70e9a8e20e5a89588006a84aa6\", element=\"87174fb4-ccbf-427e-87c2-3796ae5364ba\")>,\n",
       " <selenium.webdriver.remote.webelement.WebElement (session=\"1153aa70e9a8e20e5a89588006a84aa6\", element=\"978e0451-d5d2-49e9-ab0d-41f2c8fe570e\")>,\n",
       " <selenium.webdriver.remote.webelement.WebElement (session=\"1153aa70e9a8e20e5a89588006a84aa6\", element=\"c3888f54-417f-4f10-96a4-ad72366b5150\")>,\n",
       " <selenium.webdriver.remote.webelement.WebElement (session=\"1153aa70e9a8e20e5a89588006a84aa6\", element=\"d9233a54-31e3-4af7-a818-df5ef5653302\")>,\n",
       " <selenium.webdriver.remote.webelement.WebElement (session=\"1153aa70e9a8e20e5a89588006a84aa6\", element=\"3c7a7e2b-7861-4f8b-a096-da60b3327586\")>,\n",
       " <selenium.webdriver.remote.webelement.WebElement (session=\"1153aa70e9a8e20e5a89588006a84aa6\", element=\"df6e7e93-2c45-49f6-94fc-78411d02e749\")>,\n",
       " <selenium.webdriver.remote.webelement.WebElement (session=\"1153aa70e9a8e20e5a89588006a84aa6\", element=\"955cd666-dd0c-4d08-85bc-2733c41a1a1c\")>]"
      ]
     },
     "execution_count": 64,
     "metadata": {},
     "output_type": "execute_result"
    }
   ],
   "source": [
    "experience_tags = driver.find_elements_by_xpath(\"//li[@class='fleft grey-text br2 placeHolderLi experience']//span\")\n",
    "experience_tags"
   ]
  },
  {
   "cell_type": "code",
   "execution_count": 74,
   "id": "2be42d2e",
   "metadata": {},
   "outputs": [
    {
     "data": {
      "text/plain": [
       "['0-3 Yrs',\n",
       " '3-6 Yrs',\n",
       " '0-0 Yrs',\n",
       " '3-7 Yrs',\n",
       " '4-8 Yrs',\n",
       " '2-6 Yrs',\n",
       " '4-6 Yrs',\n",
       " '4-6 Yrs',\n",
       " '0-5 Yrs',\n",
       " '3-7 Yrs',\n",
       " '5-8 Yrs',\n",
       " '1-5 Yrs',\n",
       " '3-7 Yrs',\n",
       " '1-3 Yrs',\n",
       " '2-6 Yrs',\n",
       " '2-6 Yrs',\n",
       " '3-6 Yrs',\n",
       " '1-5 Yrs',\n",
       " '3-5 Yrs',\n",
       " '2-5 Yrs']"
      ]
     },
     "execution_count": 74,
     "metadata": {},
     "output_type": "execute_result"
    }
   ],
   "source": [
    "job_exp = []\n",
    "for i in experience_tags:\n",
    "    job_exp.append(i.text)\n",
    "\n",
    "job_exp"
   ]
  },
  {
   "cell_type": "code",
   "execution_count": 83,
   "id": "b553837a",
   "metadata": {},
   "outputs": [
    {
     "data": {
      "text/plain": [
       "[<selenium.webdriver.remote.webelement.WebElement (session=\"1153aa70e9a8e20e5a89588006a84aa6\", element=\"8f342e43-3bc1-4f59-8d1b-07a49086e499\")>,\n",
       " <selenium.webdriver.remote.webelement.WebElement (session=\"1153aa70e9a8e20e5a89588006a84aa6\", element=\"ba97d0c7-b9b2-4c86-b6f1-416042ee6fd5\")>,\n",
       " <selenium.webdriver.remote.webelement.WebElement (session=\"1153aa70e9a8e20e5a89588006a84aa6\", element=\"fb48be51-17aa-4301-8ddd-397118556824\")>,\n",
       " <selenium.webdriver.remote.webelement.WebElement (session=\"1153aa70e9a8e20e5a89588006a84aa6\", element=\"0886a4e4-e1f2-4ff0-8870-8ec637be4456\")>,\n",
       " <selenium.webdriver.remote.webelement.WebElement (session=\"1153aa70e9a8e20e5a89588006a84aa6\", element=\"c4cced62-2af6-4c5b-b292-04bbe7aebb1f\")>,\n",
       " <selenium.webdriver.remote.webelement.WebElement (session=\"1153aa70e9a8e20e5a89588006a84aa6\", element=\"9cb0c1ed-96e0-4a9b-8cc2-3cf34eee0649\")>,\n",
       " <selenium.webdriver.remote.webelement.WebElement (session=\"1153aa70e9a8e20e5a89588006a84aa6\", element=\"e9fbf629-8896-465a-9211-a6e0fa9a25c0\")>,\n",
       " <selenium.webdriver.remote.webelement.WebElement (session=\"1153aa70e9a8e20e5a89588006a84aa6\", element=\"6ba795e3-1f41-491a-9246-0b98425ceabf\")>,\n",
       " <selenium.webdriver.remote.webelement.WebElement (session=\"1153aa70e9a8e20e5a89588006a84aa6\", element=\"65b02e50-efd9-4e01-be4c-10c1c7ec0422\")>,\n",
       " <selenium.webdriver.remote.webelement.WebElement (session=\"1153aa70e9a8e20e5a89588006a84aa6\", element=\"61d43d8d-4e7d-4f10-b761-720340a786f9\")>,\n",
       " <selenium.webdriver.remote.webelement.WebElement (session=\"1153aa70e9a8e20e5a89588006a84aa6\", element=\"de0a249d-e747-46b8-aee5-c163752ea170\")>,\n",
       " <selenium.webdriver.remote.webelement.WebElement (session=\"1153aa70e9a8e20e5a89588006a84aa6\", element=\"09f45918-ece6-4093-856b-a9802e0658da\")>,\n",
       " <selenium.webdriver.remote.webelement.WebElement (session=\"1153aa70e9a8e20e5a89588006a84aa6\", element=\"14dd03ad-a847-43ef-9e2c-0bfc93b5b5f0\")>,\n",
       " <selenium.webdriver.remote.webelement.WebElement (session=\"1153aa70e9a8e20e5a89588006a84aa6\", element=\"12895e74-3af8-4291-b7b5-89605c25ccb8\")>,\n",
       " <selenium.webdriver.remote.webelement.WebElement (session=\"1153aa70e9a8e20e5a89588006a84aa6\", element=\"9f9f10f5-0622-473b-9d03-a06f8ea547d4\")>,\n",
       " <selenium.webdriver.remote.webelement.WebElement (session=\"1153aa70e9a8e20e5a89588006a84aa6\", element=\"20b83f87-03c9-44bc-8ea1-7cecd4feefaf\")>,\n",
       " <selenium.webdriver.remote.webelement.WebElement (session=\"1153aa70e9a8e20e5a89588006a84aa6\", element=\"d862b189-0c18-432e-8c16-1f95c56cef08\")>,\n",
       " <selenium.webdriver.remote.webelement.WebElement (session=\"1153aa70e9a8e20e5a89588006a84aa6\", element=\"fddf6c7a-9a18-4bc6-8b78-e696afb7bac3\")>,\n",
       " <selenium.webdriver.remote.webelement.WebElement (session=\"1153aa70e9a8e20e5a89588006a84aa6\", element=\"e16599e3-eb58-4427-88cf-90efa309315e\")>,\n",
       " <selenium.webdriver.remote.webelement.WebElement (session=\"1153aa70e9a8e20e5a89588006a84aa6\", element=\"c156713d-5b30-4cba-9bb7-5c8bf2fd4caf\")>]"
      ]
     },
     "execution_count": 83,
     "metadata": {},
     "output_type": "execute_result"
    }
   ],
   "source": [
    "company_tags = driver.find_elements_by_xpath(\"//a[@class='subTitle ellipsis fleft']\")\n",
    "company_tags"
   ]
  },
  {
   "cell_type": "code",
   "execution_count": 84,
   "id": "f9e82b95",
   "metadata": {},
   "outputs": [
    {
     "data": {
      "text/plain": [
       "['Inflexion Analytix Private Limited',\n",
       " 'inVentiv International Pharma Services Pvt. Ltd.',\n",
       " 'GABA Consultancy services',\n",
       " 'ERM Placement Services (P) Ltd.',\n",
       " 'R Systems International Ltd.',\n",
       " 'TalPro',\n",
       " 'Growel Softech Pvt. Ltd.',\n",
       " 'Growel Softech Pvt. Ltd.',\n",
       " 'Chaayos (Sunshine Teahouse Pvt. Ltd.)',\n",
       " 'Fractal Analytics',\n",
       " 'CHANGE LEADERS CONSULTING',\n",
       " 'iNICU',\n",
       " 'BlackBuck',\n",
       " 'Country Veggie',\n",
       " 'Mahajan Imaging',\n",
       " 'Mahajan Imaging',\n",
       " 'Right Step Consulting',\n",
       " 'Blow Trumpet Solutions',\n",
       " 'Inference Labs',\n",
       " 'Milliman India Pvt Ltd']"
      ]
     },
     "execution_count": 84,
     "metadata": {},
     "output_type": "execute_result"
    }
   ],
   "source": [
    "company_title = []\n",
    "for i in company_tags:\n",
    "    company_title.append(i.text)\n",
    "\n",
    "company_title"
   ]
  },
  {
   "cell_type": "code",
   "execution_count": 90,
   "id": "c7722db1",
   "metadata": {},
   "outputs": [],
   "source": [
    "#for dataframe\n",
    "import pandas as pd\n",
    "jobs = pd.DataFrame({})\n",
    "jobs['Title'] = job_titles[:10]\n",
    "jobs['Company'] = company_title[:10]\n",
    "jobs['Experience Req.'] = job_exp[:10]"
   ]
  },
  {
   "cell_type": "code",
   "execution_count": 91,
   "id": "c7b973df",
   "metadata": {},
   "outputs": [
    {
     "data": {
      "text/html": [
       "<div>\n",
       "<style scoped>\n",
       "    .dataframe tbody tr th:only-of-type {\n",
       "        vertical-align: middle;\n",
       "    }\n",
       "\n",
       "    .dataframe tbody tr th {\n",
       "        vertical-align: top;\n",
       "    }\n",
       "\n",
       "    .dataframe thead th {\n",
       "        text-align: right;\n",
       "    }\n",
       "</style>\n",
       "<table border=\"1\" class=\"dataframe\">\n",
       "  <thead>\n",
       "    <tr style=\"text-align: right;\">\n",
       "      <th></th>\n",
       "      <th>Title</th>\n",
       "      <th>Company</th>\n",
       "      <th>Experience Req.</th>\n",
       "    </tr>\n",
       "  </thead>\n",
       "  <tbody>\n",
       "    <tr>\n",
       "      <th>0</th>\n",
       "      <td>Data Scientist/Data Analyst /Business Analyst</td>\n",
       "      <td>Inflexion Analytix Private Limited</td>\n",
       "      <td>0-3 Yrs</td>\n",
       "    </tr>\n",
       "    <tr>\n",
       "      <th>1</th>\n",
       "      <td>Senior Data Scientist</td>\n",
       "      <td>inVentiv International Pharma Services Pvt. Ltd.</td>\n",
       "      <td>3-6 Yrs</td>\n",
       "    </tr>\n",
       "    <tr>\n",
       "      <th>2</th>\n",
       "      <td>Only Fresher / Data Scientist / Data Analyst /...</td>\n",
       "      <td>GABA Consultancy services</td>\n",
       "      <td>0-0 Yrs</td>\n",
       "    </tr>\n",
       "    <tr>\n",
       "      <th>3</th>\n",
       "      <td>Advanced Analytics -Data Scientist</td>\n",
       "      <td>ERM Placement Services (P) Ltd.</td>\n",
       "      <td>3-7 Yrs</td>\n",
       "    </tr>\n",
       "    <tr>\n",
       "      <th>4</th>\n",
       "      <td>Data Scientist (Early Joiner)</td>\n",
       "      <td>R Systems International Ltd.</td>\n",
       "      <td>4-8 Yrs</td>\n",
       "    </tr>\n",
       "    <tr>\n",
       "      <th>5</th>\n",
       "      <td>Data Scientist - Machine Learning/ NLP</td>\n",
       "      <td>TalPro</td>\n",
       "      <td>2-6 Yrs</td>\n",
       "    </tr>\n",
       "    <tr>\n",
       "      <th>6</th>\n",
       "      <td>Data Scientist || Python || C2H</td>\n",
       "      <td>Growel Softech Pvt. Ltd.</td>\n",
       "      <td>4-6 Yrs</td>\n",
       "    </tr>\n",
       "    <tr>\n",
       "      <th>7</th>\n",
       "      <td>Data Scientist || Python || C2H</td>\n",
       "      <td>Growel Softech Pvt. Ltd.</td>\n",
       "      <td>4-6 Yrs</td>\n",
       "    </tr>\n",
       "    <tr>\n",
       "      <th>8</th>\n",
       "      <td>Chaayos is Looking For Data Scientist</td>\n",
       "      <td>Chaayos (Sunshine Teahouse Pvt. Ltd.)</td>\n",
       "      <td>0-5 Yrs</td>\n",
       "    </tr>\n",
       "    <tr>\n",
       "      <th>9</th>\n",
       "      <td>Data Scientist</td>\n",
       "      <td>Fractal Analytics</td>\n",
       "      <td>3-7 Yrs</td>\n",
       "    </tr>\n",
       "  </tbody>\n",
       "</table>\n",
       "</div>"
      ],
      "text/plain": [
       "                                               Title  \\\n",
       "0      Data Scientist/Data Analyst /Business Analyst   \n",
       "1                              Senior Data Scientist   \n",
       "2  Only Fresher / Data Scientist / Data Analyst /...   \n",
       "3                 Advanced Analytics -Data Scientist   \n",
       "4                      Data Scientist (Early Joiner)   \n",
       "5             Data Scientist - Machine Learning/ NLP   \n",
       "6                    Data Scientist || Python || C2H   \n",
       "7                    Data Scientist || Python || C2H   \n",
       "8              Chaayos is Looking For Data Scientist   \n",
       "9                                     Data Scientist   \n",
       "\n",
       "                                            Company Experience Req.  \n",
       "0                Inflexion Analytix Private Limited         0-3 Yrs  \n",
       "1  inVentiv International Pharma Services Pvt. Ltd.         3-6 Yrs  \n",
       "2                         GABA Consultancy services         0-0 Yrs  \n",
       "3                   ERM Placement Services (P) Ltd.         3-7 Yrs  \n",
       "4                      R Systems International Ltd.         4-8 Yrs  \n",
       "5                                            TalPro         2-6 Yrs  \n",
       "6                          Growel Softech Pvt. Ltd.         4-6 Yrs  \n",
       "7                          Growel Softech Pvt. Ltd.         4-6 Yrs  \n",
       "8             Chaayos (Sunshine Teahouse Pvt. Ltd.)         0-5 Yrs  \n",
       "9                                 Fractal Analytics         3-7 Yrs  "
      ]
     },
     "execution_count": 91,
     "metadata": {},
     "output_type": "execute_result"
    }
   ],
   "source": [
    "jobs"
   ]
  },
  {
   "cell_type": "code",
   "execution_count": 108,
   "id": "a69fc6ec",
   "metadata": {},
   "outputs": [],
   "source": [
    "# Q-6- for scraping a data for \"Data Scientist\" using the location (Delhi-NCR) and salary filter (3-6 lakhs)\n",
    "import pandas as pd\n",
    "import selenium\n",
    "from selenium import webdriver\n",
    "import time\n",
    "from selenium.common.exceptions import NoSuchElementException"
   ]
  },
  {
   "cell_type": "code",
   "execution_count": 109,
   "id": "471d63cb",
   "metadata": {},
   "outputs": [],
   "source": [
    "driver = webdriver.Chrome(\"Chromedriver.exe\")"
   ]
  },
  {
   "cell_type": "code",
   "execution_count": 110,
   "id": "210bff88",
   "metadata": {},
   "outputs": [],
   "source": [
    "url = \"https://www.flipkart.com/\"\n",
    "driver.get(url)"
   ]
  },
  {
   "cell_type": "code",
   "execution_count": 113,
   "id": "6a88d263",
   "metadata": {},
   "outputs": [
    {
     "data": {
      "text/plain": [
       "<selenium.webdriver.remote.webelement.WebElement (session=\"c7c42ddbfbfb1aa545b0f896e759e2b9\", element=\"f26b3ad2-a119-495e-a20b-6ba139709cf2\")>"
      ]
     },
     "execution_count": 113,
     "metadata": {},
     "output_type": "execute_result"
    }
   ],
   "source": [
    "Search_job = driver.find_element_by_xpath('/html/body/div[1]/div/div[1]/div[1]/div[2]/div[2]/form/div/div/input')\n",
    "Search_job"
   ]
  },
  {
   "cell_type": "code",
   "execution_count": 114,
   "id": "305d2ceb",
   "metadata": {},
   "outputs": [],
   "source": [
    "Search_job.send_keys(\"Sunglasses\")"
   ]
  },
  {
   "cell_type": "code",
   "execution_count": 115,
   "id": "ac00a905",
   "metadata": {},
   "outputs": [],
   "source": [
    "button=driver.find_element_by_class_name('L0Z3Pu')\n",
    "button.click()"
   ]
  },
  {
   "cell_type": "code",
   "execution_count": 116,
   "id": "865b7f2e",
   "metadata": {},
   "outputs": [],
   "source": [
    "brands=[]\n",
    "product_description=[]\n",
    "price=[]"
   ]
  },
  {
   "cell_type": "code",
   "execution_count": 133,
   "id": "155c07bc",
   "metadata": {},
   "outputs": [],
   "source": [
    "#scrapping the required details\n",
    "start=0\n",
    "end=3\n",
    "for page in range(start,end):#for loop for scrapping 4 page\n",
    "    brand=driver.find_elements_by_xpath(\"//div[@class='_2WkVRV']\") #scraping brands name by class name='_2WkVRV'\n",
    "    for i in brand:\n",
    "        brands.append(i.text) #appending the text in Brand list\n",
    "   \n",
    "    #appending the price list\n",
    "    prices=driver.find_elements_by_xpath(\"//div[@class='_30jeq3']\")\n",
    "    for i in prices:\n",
    "        price.append(i.text)\n",
    "    \n",
    "    #appending the product description\n",
    "    description=driver.find_elements_by_xpath(\"//a[@class='_2WkVRV']\")\n",
    "    for i in description:    \n",
    "        product_description.append(i.text)\n",
    "    \n",
    "           \n",
    "nxt_button=driver.find_elements_by_xpath(\"//a[@class='_1LKTO3']\")#scraping the list of buttons from the page\n",
    "try:\n",
    "    driver.get(nxt_button[1].get_attribute('href'))#getting the link from the list for next page\n",
    "except:\n",
    "    driver.get(nxt_button[0].get_attribute('href'))\n",
    "    "
   ]
  },
  {
   "cell_type": "code",
   "execution_count": 134,
   "id": "6377f877",
   "metadata": {},
   "outputs": [],
   "source": [
    "#for dataframe\n",
    "import pandas as pd\n",
    "Sunglasses = pd.DataFrame({})\n",
    "Sunglasses['Brands'] = brands[:100]\n",
    "Sunglasses['price'] = price[:100]\n",
    "Sunglasses['description'] = product_description[:100]"
   ]
  },
  {
   "cell_type": "code",
   "execution_count": 135,
   "id": "9c9ddea5",
   "metadata": {},
   "outputs": [
    {
     "data": {
      "text/html": [
       "<div>\n",
       "<style scoped>\n",
       "    .dataframe tbody tr th:only-of-type {\n",
       "        vertical-align: middle;\n",
       "    }\n",
       "\n",
       "    .dataframe tbody tr th {\n",
       "        vertical-align: top;\n",
       "    }\n",
       "\n",
       "    .dataframe thead th {\n",
       "        text-align: right;\n",
       "    }\n",
       "</style>\n",
       "<table border=\"1\" class=\"dataframe\">\n",
       "  <thead>\n",
       "    <tr style=\"text-align: right;\">\n",
       "      <th></th>\n",
       "      <th>Brands</th>\n",
       "      <th>price</th>\n",
       "      <th>description</th>\n",
       "    </tr>\n",
       "  </thead>\n",
       "  <tbody>\n",
       "    <tr>\n",
       "      <th>0</th>\n",
       "      <td>LIZA ANGEL</td>\n",
       "      <td>₹279</td>\n",
       "      <td>LIZA ANGEL</td>\n",
       "    </tr>\n",
       "    <tr>\n",
       "      <th>1</th>\n",
       "      <td>Wrogn</td>\n",
       "      <td>₹663</td>\n",
       "      <td>Wrogn</td>\n",
       "    </tr>\n",
       "    <tr>\n",
       "      <th>2</th>\n",
       "      <td>kingsunglasses</td>\n",
       "      <td>₹299</td>\n",
       "      <td>kingsunglasses</td>\n",
       "    </tr>\n",
       "    <tr>\n",
       "      <th>3</th>\n",
       "      <td>Fastrack</td>\n",
       "      <td>₹513</td>\n",
       "      <td>Fastrack</td>\n",
       "    </tr>\n",
       "    <tr>\n",
       "      <th>4</th>\n",
       "      <td>Fastrack</td>\n",
       "      <td>₹758</td>\n",
       "      <td>Fastrack</td>\n",
       "    </tr>\n",
       "    <tr>\n",
       "      <th>...</th>\n",
       "      <td>...</td>\n",
       "      <td>...</td>\n",
       "      <td>...</td>\n",
       "    </tr>\n",
       "    <tr>\n",
       "      <th>95</th>\n",
       "      <td>Wrogn</td>\n",
       "      <td>₹1,175</td>\n",
       "      <td>Wrogn</td>\n",
       "    </tr>\n",
       "    <tr>\n",
       "      <th>96</th>\n",
       "      <td>PHENOMENAL</td>\n",
       "      <td>₹399</td>\n",
       "      <td>PHENOMENAL</td>\n",
       "    </tr>\n",
       "    <tr>\n",
       "      <th>97</th>\n",
       "      <td>ROZZETTA CRAFT</td>\n",
       "      <td>₹499</td>\n",
       "      <td>ROZZETTA CRAFT</td>\n",
       "    </tr>\n",
       "    <tr>\n",
       "      <th>98</th>\n",
       "      <td>Silver Kartz</td>\n",
       "      <td>₹259</td>\n",
       "      <td>Silver Kartz</td>\n",
       "    </tr>\n",
       "    <tr>\n",
       "      <th>99</th>\n",
       "      <td>NuVew</td>\n",
       "      <td>₹375</td>\n",
       "      <td>NuVew</td>\n",
       "    </tr>\n",
       "  </tbody>\n",
       "</table>\n",
       "<p>100 rows × 3 columns</p>\n",
       "</div>"
      ],
      "text/plain": [
       "            Brands   price     description\n",
       "0       LIZA ANGEL    ₹279      LIZA ANGEL\n",
       "1            Wrogn    ₹663           Wrogn\n",
       "2   kingsunglasses    ₹299  kingsunglasses\n",
       "3         Fastrack    ₹513        Fastrack\n",
       "4         Fastrack    ₹758        Fastrack\n",
       "..             ...     ...             ...\n",
       "95           Wrogn  ₹1,175           Wrogn\n",
       "96      PHENOMENAL    ₹399      PHENOMENAL\n",
       "97  ROZZETTA CRAFT    ₹499  ROZZETTA CRAFT\n",
       "98    Silver Kartz    ₹259    Silver Kartz\n",
       "99           NuVew    ₹375           NuVew\n",
       "\n",
       "[100 rows x 3 columns]"
      ]
     },
     "execution_count": 135,
     "metadata": {},
     "output_type": "execute_result"
    }
   ],
   "source": [
    "Sunglasses"
   ]
  },
  {
   "cell_type": "code",
   "execution_count": 80,
   "id": "fb9929fc",
   "metadata": {},
   "outputs": [],
   "source": [
    "#Q.8 scrape data for first 100 sneakers from flipkart\n",
    "import pandas as pd\n",
    "import selenium\n",
    "from selenium import webdriver\n",
    "import time\n",
    "from selenium.common.exceptions import NoSuchElementException"
   ]
  },
  {
   "cell_type": "code",
   "execution_count": 84,
   "id": "3d7cfa39",
   "metadata": {},
   "outputs": [
    {
     "data": {
      "text/plain": [
       "<selenium.webdriver.remote.webelement.WebElement (session=\"e00542645c382fea5bcb3c77c576cea1\", element=\"0b3aa747-d249-4190-9ec4-0f83792890ee\")>"
      ]
     },
     "execution_count": 84,
     "metadata": {},
     "output_type": "execute_result"
    }
   ],
   "source": [
    "driver = webdriver.Chrome(\"Chromedriver.exe\")\n",
    "url = \"https://www.flipkart.com/\"\n",
    "driver.get(url)\n",
    "\n",
    "Search_job = driver.find_element_by_xpath('/html/body/div[1]/div/div[1]/div[1]/div[2]/div[2]/form/div/div/input')\n",
    "Search_job"
   ]
  },
  {
   "cell_type": "code",
   "execution_count": 85,
   "id": "bd5d2ea8",
   "metadata": {},
   "outputs": [],
   "source": [
    "Search_job.send_keys(\"Sneakers\")"
   ]
  },
  {
   "cell_type": "code",
   "execution_count": 86,
   "id": "31e2a522",
   "metadata": {},
   "outputs": [],
   "source": [
    "button=driver.find_element_by_class_name('L0Z3Pu')\n",
    "button.click()"
   ]
  },
  {
   "cell_type": "code",
   "execution_count": 102,
   "id": "7619361b",
   "metadata": {},
   "outputs": [],
   "source": [
    "# creating a list\n",
    "brands=[]\n",
    "product_description=[]\n",
    "price=[]\n",
    "pro_discount=[]\n",
    "\n",
    "#scrapping the required details\n",
    "start=0\n",
    "end=3\n",
    "for page in range(start,end):#for loop for scrapping 4 page\n",
    "    brand=driver.find_elements_by_xpath(\"//div[@class='_2WkVRV']\") #scraping brands name by class name='_2WkVRV'\n",
    "    for i in brand:\n",
    "        brands.append(i.text) #appending the text in Brand list\n",
    "   \n",
    "    #appending the price list\n",
    "    prices=driver.find_elements_by_xpath(\"//div[@class='_30jeq3']\")\n",
    "    for i in prices:\n",
    "        price.append(i.text)\n",
    "    \n",
    "    #appending the product description\n",
    "    desc=driver.find_elements_by_xpath(\"//div[@class='_2WkVRV']//a\")\n",
    "    for i in desc:\n",
    "        product_description.append(i.text)\n",
    "    \n",
    "    #appending discount\n",
    "    try:\n",
    "        discount=driver.find_elements_by_xpath(\"//div[@class='_3Ay6Sb']//span\")\n",
    "        pro_discount.append(i.text)\n",
    "    except :\n",
    "        pro_discount.append('No Discount')\n",
    "    \n",
    "             \n",
    "nxt_button=driver.find_elements_by_xpath(\"//a[@class='_1LKTO3']\")#scraping the list of buttons from the page\n",
    "try:\n",
    "    driver.get(nxt_button[1].get_attribute('href'))#getting the link from the list for next page\n",
    "except:\n",
    "    driver.get(nxt_button[0].get_attribute('href'))\n"
   ]
  },
  {
   "cell_type": "code",
   "execution_count": 103,
   "id": "1196f5dc",
   "metadata": {},
   "outputs": [
    {
     "name": "stdout",
     "output_type": "stream",
     "text": [
      "120 120 0 3\n"
     ]
    }
   ],
   "source": [
    "print(len(brands), len(price), len(product_description), len(pro_discount))"
   ]
  },
  {
   "cell_type": "code",
   "execution_count": 111,
   "id": "8d770b7f",
   "metadata": {},
   "outputs": [],
   "source": [
    "#for dataframe\n",
    "import pandas as pd\n",
    "df = pd.DataFrame({})\n",
    "df['Brands'] = brands[:100]\n",
    "df['price'] = price[:100]"
   ]
  },
  {
   "cell_type": "code",
   "execution_count": 112,
   "id": "f279195e",
   "metadata": {},
   "outputs": [
    {
     "data": {
      "text/html": [
       "<div>\n",
       "<style scoped>\n",
       "    .dataframe tbody tr th:only-of-type {\n",
       "        vertical-align: middle;\n",
       "    }\n",
       "\n",
       "    .dataframe tbody tr th {\n",
       "        vertical-align: top;\n",
       "    }\n",
       "\n",
       "    .dataframe thead th {\n",
       "        text-align: right;\n",
       "    }\n",
       "</style>\n",
       "<table border=\"1\" class=\"dataframe\">\n",
       "  <thead>\n",
       "    <tr style=\"text-align: right;\">\n",
       "      <th></th>\n",
       "      <th>Brands</th>\n",
       "      <th>price</th>\n",
       "    </tr>\n",
       "  </thead>\n",
       "  <tbody>\n",
       "    <tr>\n",
       "      <th>0</th>\n",
       "      <td>Echor</td>\n",
       "      <td>₹499</td>\n",
       "    </tr>\n",
       "    <tr>\n",
       "      <th>1</th>\n",
       "      <td>ADIDAS</td>\n",
       "      <td>₹2,163</td>\n",
       "    </tr>\n",
       "    <tr>\n",
       "      <th>2</th>\n",
       "      <td>Red Eagle</td>\n",
       "      <td>₹399</td>\n",
       "    </tr>\n",
       "    <tr>\n",
       "      <th>3</th>\n",
       "      <td>TR</td>\n",
       "      <td>₹599</td>\n",
       "    </tr>\n",
       "    <tr>\n",
       "      <th>4</th>\n",
       "      <td>SPARX</td>\n",
       "      <td>₹666</td>\n",
       "    </tr>\n",
       "    <tr>\n",
       "      <th>...</th>\n",
       "      <td>...</td>\n",
       "      <td>...</td>\n",
       "    </tr>\n",
       "    <tr>\n",
       "      <th>95</th>\n",
       "      <td>Numenzo</td>\n",
       "      <td>₹449</td>\n",
       "    </tr>\n",
       "    <tr>\n",
       "      <th>96</th>\n",
       "      <td>PUMA</td>\n",
       "      <td>₹1,360</td>\n",
       "    </tr>\n",
       "    <tr>\n",
       "      <th>97</th>\n",
       "      <td>Absolute comfort</td>\n",
       "      <td>₹284</td>\n",
       "    </tr>\n",
       "    <tr>\n",
       "      <th>98</th>\n",
       "      <td>ozzy</td>\n",
       "      <td>₹489</td>\n",
       "    </tr>\n",
       "    <tr>\n",
       "      <th>99</th>\n",
       "      <td>Chevit</td>\n",
       "      <td>₹474</td>\n",
       "    </tr>\n",
       "  </tbody>\n",
       "</table>\n",
       "<p>100 rows × 2 columns</p>\n",
       "</div>"
      ],
      "text/plain": [
       "              Brands   price\n",
       "0              Echor    ₹499\n",
       "1             ADIDAS  ₹2,163\n",
       "2          Red Eagle    ₹399\n",
       "3                 TR    ₹599\n",
       "4              SPARX    ₹666\n",
       "..               ...     ...\n",
       "95           Numenzo    ₹449\n",
       "96              PUMA  ₹1,360\n",
       "97  Absolute comfort    ₹284\n",
       "98              ozzy    ₹489\n",
       "99            Chevit    ₹474\n",
       "\n",
       "[100 rows x 2 columns]"
      ]
     },
     "execution_count": 112,
     "metadata": {},
     "output_type": "execute_result"
    }
   ],
   "source": [
    "# Tried different xpath but product description and discount doesnt have same list length, thatswhy only Brands and price in dataframe\n",
    "df"
   ]
  },
  {
   "cell_type": "code",
   "execution_count": 136,
   "id": "fe7e2bec",
   "metadata": {},
   "outputs": [],
   "source": [
    "#Q-9 scraping shoes data from myntra.com using filter\n",
    "import pandas as pd\n",
    "import selenium\n",
    "from selenium import webdriver\n",
    "import time\n",
    "from selenium.common.exceptions import NoSuchElementException"
   ]
  },
  {
   "cell_type": "code",
   "execution_count": 140,
   "id": "d22d3038",
   "metadata": {},
   "outputs": [],
   "source": [
    "driver=webdriver.Chrome(\"chromedriver.exe\") \n",
    "time.sleep(3)\n",
    "\n",
    "url = \"https://www.myntra.com/shoes\"\n",
    "driver.get(url)"
   ]
  },
  {
   "cell_type": "code",
   "execution_count": 143,
   "id": "6826e791",
   "metadata": {},
   "outputs": [],
   "source": [
    "#locating the filter\n",
    "time.sleep(2)\n",
    "#locating the filter\n",
    "filter_button=driver.find_elements_by_xpath(\"//div[@class='vertical-filters-filters']\")\n",
    "for i in filter_button:\n",
    "    if i.text=='Rs. 6649 to Rs. 13099':\n",
    "        i.click()\n",
    "        break\n",
    "#Locating filter\n",
    "filter_button=driver.find_elements_by_xpath(\"//label[@class='common-customCheckbox']\")\n",
    "for i in filter_button:\n",
    "    if i.text=='Black':\n",
    "        i.click()\n",
    "        break"
   ]
  },
  {
   "cell_type": "code",
   "execution_count": null,
   "id": "00eb80b4",
   "metadata": {},
   "outputs": [],
   "source": [
    "#scrapping the required details\n",
    "start=0\n",
    "end=3\n",
    "   \n",
    "           \n",
    "nxt_button=driver.find_elements_by_xpath(\"//a[@class='_1LKTO3']\")#scraping the list of buttons from the page\n",
    "try:\n",
    "    driver.get(nxt_button[1].get_attribute('href'))#getting the link from the list for next page\n",
    "except:\n",
    "    driver.get(nxt_button[0].get_attribute('href'))"
   ]
  },
  {
   "cell_type": "code",
   "execution_count": 3,
   "id": "4130e294",
   "metadata": {},
   "outputs": [],
   "source": [
    "# Q.4-scraping data from Glassdoor.com using data Scientist and Noida filters for comapny_name,no of days, rating of the company\n",
    "import pandas as pd\n",
    "import selenium\n",
    "from selenium import webdriver\n",
    "import time\n",
    "from selenium.common.exceptions import NoSuchElementException"
   ]
  },
  {
   "cell_type": "code",
   "execution_count": 53,
   "id": "579b69bd",
   "metadata": {},
   "outputs": [
    {
     "data": {
      "text/html": [
       "<div>\n",
       "<style scoped>\n",
       "    .dataframe tbody tr th:only-of-type {\n",
       "        vertical-align: middle;\n",
       "    }\n",
       "\n",
       "    .dataframe tbody tr th {\n",
       "        vertical-align: top;\n",
       "    }\n",
       "\n",
       "    .dataframe thead th {\n",
       "        text-align: right;\n",
       "    }\n",
       "</style>\n",
       "<table border=\"1\" class=\"dataframe\">\n",
       "  <thead>\n",
       "    <tr style=\"text-align: right;\">\n",
       "      <th></th>\n",
       "      <th>Company Title</th>\n",
       "      <th>Rating</th>\n",
       "      <th>No.of days Ago</th>\n",
       "    </tr>\n",
       "  </thead>\n",
       "  <tbody>\n",
       "    <tr>\n",
       "      <th>0</th>\n",
       "      <td>Salesforce</td>\n",
       "      <td>4.5</td>\n",
       "      <td>5d</td>\n",
       "    </tr>\n",
       "    <tr>\n",
       "      <th>1</th>\n",
       "      <td>Bechtel</td>\n",
       "      <td>4.0</td>\n",
       "      <td>2d</td>\n",
       "    </tr>\n",
       "    <tr>\n",
       "      <th>2</th>\n",
       "      <td>Crowe</td>\n",
       "      <td>3.8</td>\n",
       "      <td>10d</td>\n",
       "    </tr>\n",
       "    <tr>\n",
       "      <th>3</th>\n",
       "      <td>Ericsson</td>\n",
       "      <td>4.1</td>\n",
       "      <td>17d</td>\n",
       "    </tr>\n",
       "    <tr>\n",
       "      <th>4</th>\n",
       "      <td>Siemens Technology and Services Private Limited</td>\n",
       "      <td>4.1</td>\n",
       "      <td>22d</td>\n",
       "    </tr>\n",
       "    <tr>\n",
       "      <th>5</th>\n",
       "      <td>MobiKwik</td>\n",
       "      <td>4.0</td>\n",
       "      <td>25d</td>\n",
       "    </tr>\n",
       "    <tr>\n",
       "      <th>6</th>\n",
       "      <td>Lantern Digital Services</td>\n",
       "      <td>3.5</td>\n",
       "      <td>4d</td>\n",
       "    </tr>\n",
       "    <tr>\n",
       "      <th>7</th>\n",
       "      <td>Novo</td>\n",
       "      <td>4.2</td>\n",
       "      <td>8d</td>\n",
       "    </tr>\n",
       "    <tr>\n",
       "      <th>8</th>\n",
       "      <td>NatWest Group</td>\n",
       "      <td>3.9</td>\n",
       "      <td>2d</td>\n",
       "    </tr>\n",
       "    <tr>\n",
       "      <th>9</th>\n",
       "      <td>Ally wiredsoft solutions (P) ltd</td>\n",
       "      <td>3.7</td>\n",
       "      <td>3d</td>\n",
       "    </tr>\n",
       "  </tbody>\n",
       "</table>\n",
       "</div>"
      ],
      "text/plain": [
       "                                     Company Title Rating No.of days Ago\n",
       "0                                       Salesforce    4.5             5d\n",
       "1                                          Bechtel    4.0             2d\n",
       "2                                            Crowe    3.8            10d\n",
       "3                                         Ericsson    4.1            17d\n",
       "4  Siemens Technology and Services Private Limited    4.1            22d\n",
       "5                                         MobiKwik    4.0            25d\n",
       "6                         Lantern Digital Services    3.5             4d\n",
       "7                                             Novo    4.2             8d\n",
       "8                                    NatWest Group    3.9             2d\n",
       "9                 Ally wiredsoft solutions (P) ltd    3.7             3d"
      ]
     },
     "execution_count": 53,
     "metadata": {},
     "output_type": "execute_result"
    }
   ],
   "source": [
    "driver=webdriver.Chrome(\"chromedriver.exe\") \n",
    "time.sleep(3)\n",
    "\n",
    "url = \"https://www.glassdoor.co.in/Job/noida-data-scientist-jobs-SRCH_IL.0,5_IC4477468_KO6,20.htm\"\n",
    "driver.get(url)\n",
    "\n",
    "# Scraping other details\n",
    "company_title = []\n",
    "company_tags = driver.find_elements_by_xpath(\"//div[@class='d-flex justify-content-between align-items-start']//a//span\")\n",
    "for i in company_tags:\n",
    "    company_title.append(i.text)\n",
    "\n",
    "#Ratings of the company\n",
    "rating_comp=[]\n",
    "rating_tags = driver.find_elements_by_xpath(\"//span[@class='css-19pjha7 e1cjmv6j1']\")\n",
    "for i in rating_tags:\n",
    "    rating_comp.append(i.text)\n",
    "\n",
    "# No.of days scraping\n",
    "days=[]\n",
    "days_tags = driver.find_elements_by_xpath(\"//div[@class='d-flex align-items-end pl-std css-mi55ob']\")\n",
    "for i in days_tags:\n",
    "    days.append(i.text)\n",
    "\n",
    "#for dataframe\n",
    "import pandas as pd\n",
    "jobs = pd.DataFrame({})\n",
    "jobs['Company Title'] = company_title[:10]\n",
    "jobs['Rating'] = rating_comp[:10]\n",
    "jobs['No.of days Ago'] = days[:10]\n",
    "\n",
    "#printing dataframe\n",
    "jobs\n"
   ]
  },
  {
   "cell_type": "code",
   "execution_count": 54,
   "id": "f632bab5",
   "metadata": {},
   "outputs": [],
   "source": [
    "# Q.5-scraping data from Glassdoor.com using data Scientist and Noida filters for Salaries, comapny_name,rating of the company\n",
    "import pandas as pd\n",
    "import selenium\n",
    "from selenium import webdriver\n",
    "import time\n",
    "from selenium.common.exceptions import NoSuchElementException"
   ]
  },
  {
   "cell_type": "code",
   "execution_count": 60,
   "id": "b7a6cebf",
   "metadata": {},
   "outputs": [
    {
     "data": {
      "text/html": [
       "<div>\n",
       "<style scoped>\n",
       "    .dataframe tbody tr th:only-of-type {\n",
       "        vertical-align: middle;\n",
       "    }\n",
       "\n",
       "    .dataframe tbody tr th {\n",
       "        vertical-align: top;\n",
       "    }\n",
       "\n",
       "    .dataframe thead th {\n",
       "        text-align: right;\n",
       "    }\n",
       "</style>\n",
       "<table border=\"1\" class=\"dataframe\">\n",
       "  <thead>\n",
       "    <tr style=\"text-align: right;\">\n",
       "      <th></th>\n",
       "      <th>Company Title</th>\n",
       "      <th>Rating</th>\n",
       "      <th>Salary</th>\n",
       "      <th>Min. and Max Range salary</th>\n",
       "    </tr>\n",
       "  </thead>\n",
       "  <tbody>\n",
       "    <tr>\n",
       "      <th>0</th>\n",
       "      <td>IBM</td>\n",
       "      <td>3.9</td>\n",
       "      <td>₹9,00,000</td>\n",
       "      <td></td>\n",
       "    </tr>\n",
       "    <tr>\n",
       "      <th>1</th>\n",
       "      <td>Tata Consultancy Services</td>\n",
       "      <td>3.9</td>\n",
       "      <td>₹6,15,289</td>\n",
       "      <td></td>\n",
       "    </tr>\n",
       "    <tr>\n",
       "      <th>2</th>\n",
       "      <td>Accenture</td>\n",
       "      <td>4</td>\n",
       "      <td>₹11,63,336</td>\n",
       "      <td></td>\n",
       "    </tr>\n",
       "    <tr>\n",
       "      <th>3</th>\n",
       "      <td>Delhivery</td>\n",
       "      <td>3.9</td>\n",
       "      <td>₹12,18,244</td>\n",
       "      <td></td>\n",
       "    </tr>\n",
       "    <tr>\n",
       "      <th>4</th>\n",
       "      <td>Ericsson-Worldwide</td>\n",
       "      <td>4</td>\n",
       "      <td>₹7,39,238</td>\n",
       "      <td></td>\n",
       "    </tr>\n",
       "    <tr>\n",
       "      <th>5</th>\n",
       "      <td>UnitedHealth Group</td>\n",
       "      <td>3.7</td>\n",
       "      <td>₹13,00,000</td>\n",
       "      <td></td>\n",
       "    </tr>\n",
       "    <tr>\n",
       "      <th>6</th>\n",
       "      <td>Valiance Solutions</td>\n",
       "      <td>4.2</td>\n",
       "      <td>₹8,63,750</td>\n",
       "      <td></td>\n",
       "    </tr>\n",
       "    <tr>\n",
       "      <th>7</th>\n",
       "      <td>EXL Service</td>\n",
       "      <td>3.6</td>\n",
       "      <td>₹11,10,000</td>\n",
       "      <td></td>\n",
       "    </tr>\n",
       "    <tr>\n",
       "      <th>8</th>\n",
       "      <td>Optum</td>\n",
       "      <td>3.6</td>\n",
       "      <td>₹14,23,677</td>\n",
       "      <td></td>\n",
       "    </tr>\n",
       "    <tr>\n",
       "      <th>9</th>\n",
       "      <td>Optum Global Solutions</td>\n",
       "      <td>3.9</td>\n",
       "      <td>₹13,28,697</td>\n",
       "      <td></td>\n",
       "    </tr>\n",
       "  </tbody>\n",
       "</table>\n",
       "</div>"
      ],
      "text/plain": [
       "               Company Title Rating      Salary Min. and Max Range salary\n",
       "0                        IBM    3.9   ₹9,00,000                          \n",
       "1  Tata Consultancy Services    3.9   ₹6,15,289                          \n",
       "2                  Accenture      4  ₹11,63,336                          \n",
       "3                  Delhivery    3.9  ₹12,18,244                          \n",
       "4         Ericsson-Worldwide      4   ₹7,39,238                          \n",
       "5         UnitedHealth Group    3.7  ₹13,00,000                          \n",
       "6         Valiance Solutions    4.2   ₹8,63,750                          \n",
       "7                EXL Service    3.6  ₹11,10,000                          \n",
       "8                      Optum    3.6  ₹14,23,677                          \n",
       "9     Optum Global Solutions    3.9  ₹13,28,697                          "
      ]
     },
     "execution_count": 60,
     "metadata": {},
     "output_type": "execute_result"
    }
   ],
   "source": [
    "driver=webdriver.Chrome(\"chromedriver.exe\") \n",
    "time.sleep(3)\n",
    "\n",
    "url = \"https://www.glassdoor.co.in/Salaries/new-delhi-data-scientist-salary-SRCH_IL.0,9_IM1083_KO10,24.htm?clickSource=searchBtn\"\n",
    "driver.get(url)\n",
    "\n",
    "# Scraping other details\n",
    "company_title = []\n",
    "company_tags = driver.find_elements_by_xpath(\"//h3[@class='m-0 css-g261rn']//a\")\n",
    "for i in company_tags:\n",
    "    company_title.append(i.text)\n",
    "\n",
    "#Ratings of the company\n",
    "rating_comp=[]\n",
    "rating_tags = driver.find_elements_by_xpath(\"//span[@class='m-0 css-kyx745']\")\n",
    "for i in rating_tags:\n",
    "    rating_comp.append(i.text)\n",
    "\n",
    "# No.of days scraping\n",
    "Avg_salary=[]\n",
    "salary_tags = driver.find_elements_by_xpath(\"//div[@class='col-12 col-lg-4 px-lg-0 d-flex align-items-baseline']//h3\")\n",
    "for i in salary_tags:\n",
    "    Avg_salary.append(i.text)\n",
    "\n",
    "# Min and max Salary \n",
    "mm_salary=[]\n",
    "mmsalary_tags = driver.find_elements_by_xpath(\"//span[@class='d-block d-lg-none m-0 css-1b6bxoo']\")\n",
    "for i in mmsalary_tags:\n",
    "    mm_salary.append(i.text)\n",
    "\n",
    "\n",
    "#for dataframe\n",
    "import pandas as pd\n",
    "jobs = pd.DataFrame({})\n",
    "jobs['Company Title'] = company_title[:10]\n",
    "jobs['Rating'] = rating_comp[:10]\n",
    "jobs['Salary'] = Avg_salary[:10]\n",
    "jobs['Min. and Max Range salary']= mm_salary[:10]\n",
    "\n",
    "#printing dataframe\n",
    "jobs\n"
   ]
  },
  {
   "cell_type": "code",
   "execution_count": null,
   "id": "8fdb38c1",
   "metadata": {},
   "outputs": [],
   "source": []
  },
  {
   "cell_type": "code",
   "execution_count": null,
   "id": "50355456",
   "metadata": {},
   "outputs": [],
   "source": []
  },
  {
   "cell_type": "code",
   "execution_count": null,
   "id": "ff4bfe84",
   "metadata": {},
   "outputs": [],
   "source": []
  },
  {
   "cell_type": "code",
   "execution_count": null,
   "id": "75b60abc",
   "metadata": {},
   "outputs": [],
   "source": []
  },
  {
   "cell_type": "code",
   "execution_count": null,
   "id": "4e587248",
   "metadata": {},
   "outputs": [],
   "source": []
  },
  {
   "cell_type": "code",
   "execution_count": null,
   "id": "c5c9ed2b",
   "metadata": {},
   "outputs": [],
   "source": []
  },
  {
   "cell_type": "code",
   "execution_count": null,
   "id": "f4d5f363",
   "metadata": {},
   "outputs": [],
   "source": []
  },
  {
   "cell_type": "code",
   "execution_count": null,
   "id": "84a913df",
   "metadata": {},
   "outputs": [],
   "source": []
  },
  {
   "cell_type": "code",
   "execution_count": null,
   "id": "bc609ed1",
   "metadata": {},
   "outputs": [],
   "source": []
  },
  {
   "cell_type": "code",
   "execution_count": 1,
   "id": "6e465d4e",
   "metadata": {},
   "outputs": [],
   "source": [
    "#Q.10- scraping data for first 10 laptop from amazon.in using intel i7 and intel i9 filter\n",
    "import pandas as pd\n",
    "import selenium\n",
    "from selenium import webdriver\n",
    "import time\n",
    "from selenium.common.exceptions import NoSuchElementException"
   ]
  },
  {
   "cell_type": "code",
   "execution_count": 2,
   "id": "e6004329",
   "metadata": {},
   "outputs": [
    {
     "data": {
      "text/html": [
       "<div>\n",
       "<style scoped>\n",
       "    .dataframe tbody tr th:only-of-type {\n",
       "        vertical-align: middle;\n",
       "    }\n",
       "\n",
       "    .dataframe tbody tr th {\n",
       "        vertical-align: top;\n",
       "    }\n",
       "\n",
       "    .dataframe thead th {\n",
       "        text-align: right;\n",
       "    }\n",
       "</style>\n",
       "<table border=\"1\" class=\"dataframe\">\n",
       "  <thead>\n",
       "    <tr style=\"text-align: right;\">\n",
       "      <th></th>\n",
       "      <th>Title</th>\n",
       "      <th>Price</th>\n",
       "      <th>Ratings</th>\n",
       "    </tr>\n",
       "  </thead>\n",
       "  <tbody>\n",
       "    <tr>\n",
       "      <th>0</th>\n",
       "      <td>HP Pavilion x360 (2021) 14\" (35.56cms) FHD Tou...</td>\n",
       "      <td>78,993</td>\n",
       "      <td>4 out of 5</td>\n",
       "    </tr>\n",
       "    <tr>\n",
       "      <th>1</th>\n",
       "      <td>HP Pavilion (2021) Thin &amp; Light 11th Gen Core ...</td>\n",
       "      <td>84,990</td>\n",
       "      <td>4.4 out of 5</td>\n",
       "    </tr>\n",
       "    <tr>\n",
       "      <th>2</th>\n",
       "      <td>Mi Notebook Horizon Edition 14 Intel Core i7-1...</td>\n",
       "      <td>59,999</td>\n",
       "      <td>4.4 out of 5</td>\n",
       "    </tr>\n",
       "    <tr>\n",
       "      <th>3</th>\n",
       "      <td>HP Pavilion Gaming 10th Gen Intel Core i7 Proc...</td>\n",
       "      <td>96,555</td>\n",
       "      <td>4.2 out of 5</td>\n",
       "    </tr>\n",
       "    <tr>\n",
       "      <th>4</th>\n",
       "      <td>ASUS VivoBook S S14 Intel Core i7-1165G7 11th ...</td>\n",
       "      <td>76,990</td>\n",
       "      <td>4.4 out of 5</td>\n",
       "    </tr>\n",
       "    <tr>\n",
       "      <th>5</th>\n",
       "      <td>Dell 14 (2021) i7-1165G7 2in1 Touch Screen Lap...</td>\n",
       "      <td>91,390</td>\n",
       "      <td>4.6 out of 5</td>\n",
       "    </tr>\n",
       "    <tr>\n",
       "      <th>6</th>\n",
       "      <td>(Renewed) Dell XPS 9370 13.3-inch UHD Thin &amp; L...</td>\n",
       "      <td>88,423</td>\n",
       "      <td>NO rating</td>\n",
       "    </tr>\n",
       "    <tr>\n",
       "      <th>7</th>\n",
       "      <td>Lenovo IdeaPad Flex 5 11th Gen Intel Core i7 1...</td>\n",
       "      <td>83,990</td>\n",
       "      <td>4 out of 5</td>\n",
       "    </tr>\n",
       "    <tr>\n",
       "      <th>8</th>\n",
       "      <td>MSI GF63 Thin 10SCSR-019IN Intel Core i7-10750...</td>\n",
       "      <td>84,990</td>\n",
       "      <td>2.9 out of 5</td>\n",
       "    </tr>\n",
       "    <tr>\n",
       "      <th>9</th>\n",
       "      <td>(Renewed) Dell Intel Core i7 4th Gen 14 Inch(3...</td>\n",
       "      <td>43,999</td>\n",
       "      <td>NO rating</td>\n",
       "    </tr>\n",
       "  </tbody>\n",
       "</table>\n",
       "</div>"
      ],
      "text/plain": [
       "                                               Title   Price       Ratings\n",
       "0  HP Pavilion x360 (2021) 14\" (35.56cms) FHD Tou...  78,993    4 out of 5\n",
       "1  HP Pavilion (2021) Thin & Light 11th Gen Core ...  84,990  4.4 out of 5\n",
       "2  Mi Notebook Horizon Edition 14 Intel Core i7-1...  59,999  4.4 out of 5\n",
       "3  HP Pavilion Gaming 10th Gen Intel Core i7 Proc...  96,555  4.2 out of 5\n",
       "4  ASUS VivoBook S S14 Intel Core i7-1165G7 11th ...  76,990  4.4 out of 5\n",
       "5  Dell 14 (2021) i7-1165G7 2in1 Touch Screen Lap...  91,390  4.6 out of 5\n",
       "6  (Renewed) Dell XPS 9370 13.3-inch UHD Thin & L...  88,423     NO rating\n",
       "7  Lenovo IdeaPad Flex 5 11th Gen Intel Core i7 1...  83,990    4 out of 5\n",
       "8  MSI GF63 Thin 10SCSR-019IN Intel Core i7-10750...  84,990  2.9 out of 5\n",
       "9  (Renewed) Dell Intel Core i7 4th Gen 14 Inch(3...  43,999     NO rating"
      ]
     },
     "execution_count": 2,
     "metadata": {},
     "output_type": "execute_result"
    }
   ],
   "source": [
    "driver=webdriver.Chrome(\"chromedriver.exe\") \n",
    "time.sleep(3)\n",
    "\n",
    "url = \"https://www.amazon.in/ref=nav_logo\"\n",
    "driver.get(url)\n",
    "\n",
    "\n",
    "#creating the empty list\n",
    "Title=[]\n",
    "Ratings=[]\n",
    "price=[]\n",
    "\n",
    "time.sleep(2)\n",
    "#locating the search bar\n",
    "search_bar = driver.find_element_by_id(\"twotabsearchtextbox\")    # Locating searc_bar by id\n",
    "search_bar.clear()                                               # clearing search_bar\n",
    "search_bar.send_keys(\"laptops\")                                   # sending user input to search bar\n",
    "search_button = driver.find_element_by_xpath('//span[@id=\"nav-search-submit-text\"]')       # Locating search_button by xpath\n",
    "search_button.click()    \n",
    "\n",
    "time.sleep(2)\n",
    "#locating the core i7 filter\n",
    "filter_button=driver.find_elements_by_xpath(\"//a[@class='a-link-normal s-navigation-item']/span\")\n",
    "for i in filter_button:\n",
    "    if i.text=='Intel Core i7':\n",
    "        i.click()\n",
    "        break\n",
    "#Locating the core i9 filter\n",
    "filter_button=driver.find_elements_by_xpath(\"//a[@class='a-link-normal s-navigation-item']/span\")\n",
    "for i in filter_button:\n",
    "    if i.text=='Intel Core i9':\n",
    "        i.click()\n",
    "        break\n",
    "        \n",
    "#Scrapping Titles\n",
    "titles=driver.find_elements_by_xpath(\"//span[@class='a-size-medium a-color-base a-text-normal']\")\n",
    "for i in titles[:10]:\n",
    "    Title.append(i.text)\n",
    "    \n",
    "    \n",
    "#scrapping Price\n",
    "prices=driver.find_elements_by_xpath(\"//span[@class='a-price-whole']\")\n",
    "for i in prices[:10]:\n",
    "    price.append(i.text)\n",
    "\n",
    "#locating Ratings\n",
    "urls=driver.find_elements_by_xpath(\"//a[@class='a-link-normal a-text-normal']\")#collecting urls of all the laptop\n",
    "UR=[]\n",
    "for i in urls[:10]:\n",
    "    UR.append(i.get_attribute('href'))#getting the url of first 10 laptops\n",
    "for url in UR:#loop for every laptop in the list\n",
    "    driver.get(url)\n",
    "    try:                  #exception handling for nosuchelementexception                                                    #click the rating link found\n",
    "        rating=driver.find_element_by_xpath(\"//span[@class='a-size-base a-nowrap']//span\")#locating the rating\n",
    "        Ratings.append(rating.text)#appending the ratings in Ratings list\n",
    "        \n",
    "    except NoSuchElementException:\n",
    "        Ratings.append(\"NO rating\")#appending the No rating if no rating is there\n",
    "        \n",
    "#creating a dataframe\n",
    "df=pd.DataFrame({'Title':Title,\n",
    "                'Price':price,\n",
    "                'Ratings':Ratings})\n",
    "#printing dataframe\n",
    "df"
   ]
  },
  {
   "cell_type": "code",
   "execution_count": null,
   "id": "ac2d4a20",
   "metadata": {},
   "outputs": [],
   "source": []
  },
  {
   "cell_type": "code",
   "execution_count": null,
   "id": "51122d9c",
   "metadata": {},
   "outputs": [],
   "source": []
  }
 ],
 "metadata": {
  "kernelspec": {
   "display_name": "Python 3",
   "language": "python",
   "name": "python3"
  },
  "language_info": {
   "codemirror_mode": {
    "name": "ipython",
    "version": 3
   },
   "file_extension": ".py",
   "mimetype": "text/x-python",
   "name": "python",
   "nbconvert_exporter": "python",
   "pygments_lexer": "ipython3",
   "version": "3.8.8"
  }
 },
 "nbformat": 4,
 "nbformat_minor": 5
}
